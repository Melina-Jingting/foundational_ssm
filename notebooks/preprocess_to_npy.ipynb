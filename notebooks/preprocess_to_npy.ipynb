{
 "cells": [
  {
   "cell_type": "code",
   "execution_count": null,
   "id": "95df258c",
   "metadata": {},
   "outputs": [],
   "source": [
    "from foundational_ssm.data_utils.dataset import TorchBrainDataset\n",
    "from foundational_ssm.data_utils.samplers import GroupedRandomFixedWindowSampler\n",
    "from foundational_ssm.data_utils.loaders import get_dataset_config\n",
    "from torch.utils.data import DataLoader\n",
    "from foundational_ssm.constants import DATA_ROOT\n",
    "from omegaconf import OmegaConf\n",
    "\n",
    "from foundational_ssm.data_utils.dataset import TorchBrainDataset\n",
    "\n",
    "config_path = \"/cs/student/projects1/ml/2024/mlaimon/foundational_ssm/configs/pretrain.yaml\"\n",
    "cfg = OmegaConf.load(config_path) \n",
    "train_dataset = TorchBrainDataset(\n",
    "    root=\"../\"+DATA_ROOT,\n",
    "    config=get_dataset_config(\n",
    "        **cfg.train_dataset\n",
    "    ),\n",
    "    lazy=cfg.dataloader.lazy,\n",
    "    keep_files_open=cfg.dataloader.keep_files_open,\n",
    "    \n",
    ")\n",
    "train_sampling_intervals = train_dataset.get_sampling_intervals()"
   ]
  },
  {
   "cell_type": "code",
   "execution_count": null,
   "id": "190d0130",
   "metadata": {},
   "outputs": [],
   "source": []
  }
 ],
 "metadata": {
  "kernelspec": {
   "display_name": "foundational_ssm",
   "language": "python",
   "name": "python3"
  },
  "language_info": {
   "codemirror_mode": {
    "name": "ipython",
    "version": 3
   },
   "file_extension": ".py",
   "mimetype": "text/x-python",
   "name": "python",
   "nbconvert_exporter": "python",
   "pygments_lexer": "ipython3",
   "version": "3.13.5"
  }
 },
 "nbformat": 4,
 "nbformat_minor": 5
}
