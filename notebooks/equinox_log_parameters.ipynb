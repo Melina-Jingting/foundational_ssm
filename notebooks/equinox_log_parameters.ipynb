{
 "cells": [
  {
   "cell_type": "code",
   "execution_count": 12,
   "id": "53be9c81",
   "metadata": {},
   "outputs": [],
   "source": [
    "import jax\n",
    "import jax.numpy as jnp\n",
    "from jax import random\n",
    "import optax\n",
    "import equinox as eqx\n",
    "from functools import partial\n",
    "import numpy as np\n",
    "import matplotlib.pyplot as plt\n",
    "\n",
    "from foundational_ssm.models import S5\n",
    "from omegaconf import OmegaConf"
   ]
  },
  {
   "cell_type": "code",
   "execution_count": 9,
   "id": "c180d55a",
   "metadata": {},
   "outputs": [],
   "source": [
    "conf = {\n",
    "    'model': {\n",
    "        'input_dim': 182,\n",
    "        'output_dim': 2,\n",
    "        'd_state': 64,\n",
    "        'num_layers': 2,\n",
    "        'hidden_dim': 64,\n",
    "        'dropout': 0.1,\n",
    "        'ssm_core':'s5'\n",
    "    },\n",
    "    'optimizer': {\n",
    "        'lr': 0.0005,\n",
    "        'weight_decay': 0.01  # Added common parameter\n",
    "    },\n",
    "    'training': {\n",
    "        'batch_size': 64,\n",
    "        'epochs': 2000\n",
    "    },\n",
    "    'device': 'cuda',\n",
    "    'framework': 'jax'\n",
    "}"
   ]
  },
  {
   "cell_type": "code",
   "execution_count": 13,
   "id": "c800cce1",
   "metadata": {},
   "outputs": [],
   "source": [
    "args = OmegaConf.create(conf)\n",
    "\n",
    "model_key = random.PRNGKey(0)\n",
    "model = S5(\n",
    "    key= model_key,\n",
    "    num_blocks=args.model.num_layers,\n",
    "    N=args.model.input_dim,\n",
    "    ssm_size=args.model.d_state,\n",
    "    ssm_blocks=1,\n",
    "    H=args.model.hidden_dim,\n",
    "    output_dim=args.model.output_dim,\n",
    ")"
   ]
  },
  {
   "cell_type": "code",
   "execution_count": 27,
   "id": "a7302bd5",
   "metadata": {},
   "outputs": [
    {
     "data": {
      "text/plain": [
       "<function equinox._filters.is_inexact_array(element: Any) -> bool>"
      ]
     },
     "execution_count": 27,
     "metadata": {},
     "output_type": "execute_result"
    }
   ],
   "source": [
    "eqx.is_inexact_array"
   ]
  },
  {
   "cell_type": "code",
   "execution_count": null,
   "id": "927538a3",
   "metadata": {},
   "outputs": [
    {
     "name": "stdout",
     "output_type": "stream",
     "text": [
      "Original model type: <class 'foundational_ssm.models.s5.S5'>\n",
      "Filtered model type: <class 'foundational_ssm.models.s5.S5'>\n"
     ]
    }
   ],
   "source": [
    "dynamic, static = eqx.partition(model, eqx.is_inexact_array)"
   ]
  },
  {
   "cell_type": "code",
   "execution_count": 28,
   "id": "c65ce394",
   "metadata": {},
   "outputs": [
    {
     "data": {
      "text/plain": [
       "('blocks', 'linear_encoder', 'linear_layer')"
      ]
     },
     "execution_count": 28,
     "metadata": {},
     "output_type": "execute_result"
    }
   ],
   "source": [
    "eqx.partition(model, eqx.is_array)[0].__static_attributes__"
   ]
  },
  {
   "cell_type": "code",
   "execution_count": 30,
   "id": "526635ad",
   "metadata": {},
   "outputs": [
    {
     "data": {
      "text/plain": [
       "Linear(\n",
       "  weight=f32[64,182],\n",
       "  bias=f32[64],\n",
       "  in_features=182,\n",
       "  out_features=64,\n",
       "  use_bias=True\n",
       ")"
      ]
     },
     "execution_count": 30,
     "metadata": {},
     "output_type": "execute_result"
    }
   ],
   "source": [
    "dynamic, static = eqx.partition(model, eqx.is_array)\n",
    "\n",
    "dynamic.linear_encoder"
   ]
  },
  {
   "cell_type": "code",
   "execution_count": 40,
   "id": "c0d99aa9",
   "metadata": {},
   "outputs": [
    {
     "data": {
      "text/plain": [
       "S5Layer(\n",
       "  Lambda_re=f32[32],\n",
       "  Lambda_im=f32[32],\n",
       "  B=f32[32,64,2],\n",
       "  C=f32[64,32,2],\n",
       "  D=f32[64],\n",
       "  log_step=f32[32,1],\n",
       "  H=None,\n",
       "  P=None,\n",
       "  conj_sym=None,\n",
       "  clip_eigs=None,\n",
       "  discretisation=None,\n",
       "  step_rescale=None\n",
       ")"
      ]
     },
     "execution_count": 40,
     "metadata": {},
     "output_type": "execute_result"
    }
   ],
   "source": [
    "dynamic.blocks[0].ssm"
   ]
  },
  {
   "cell_type": "code",
   "execution_count": 69,
   "id": "48aae86d",
   "metadata": {},
   "outputs": [],
   "source": [
    "leaves, leaves_def = jax.tree.flatten(dynamic)"
   ]
  },
  {
   "cell_type": "code",
   "execution_count": 70,
   "id": "0f5a7a91",
   "metadata": {},
   "outputs": [
    {
     "data": {
      "text/plain": [
       "('weight', 'bias'), (('in_features', 182), ('out_features', 64), ('use_bias', True))"
      ]
     },
     "execution_count": 70,
     "metadata": {},
     "output_type": "execute_result"
    }
   ],
   "source": [
    "leaves_def.children()[0].node_data()[1]"
   ]
  },
  {
   "cell_type": "code",
   "execution_count": 85,
   "id": "32bc3280",
   "metadata": {},
   "outputs": [
    {
     "data": {
      "text/plain": [
       "PyTreeDef(CustomNode(Linear[('weight', 'bias'), (('in_features', 182), ('out_features', 64), ('use_bias', True))], [*, *]))"
      ]
     },
     "execution_count": 85,
     "metadata": {},
     "output_type": "execute_result"
    }
   ],
   "source": [
    "leaves_def.children()[0]"
   ]
  },
  {
   "cell_type": "code",
   "execution_count": 86,
   "id": "f71fe1c7",
   "metadata": {},
   "outputs": [
    {
     "data": {
      "text/plain": [
       "(list, None)"
      ]
     },
     "execution_count": 86,
     "metadata": {},
     "output_type": "execute_result"
    }
   ],
   "source": [
    "leaves_def.children()[1].node_data()"
   ]
  },
  {
   "cell_type": "code",
   "execution_count": 90,
   "id": "e950316c",
   "metadata": {},
   "outputs": [
    {
     "name": "stdout",
     "output_type": "stream",
     "text": [
      ".linear_encoder..weight (64, 182) True\n",
      ".linear_encoder..bias (64,) True\n",
      ".blocks.[0]..norm..first_time_index..init () True\n",
      ".blocks.[0]..norm..state_index..init.[0] (64,) True\n",
      ".blocks.[0]..norm..state_index..init.[1] (64,) True\n",
      ".blocks.[0]..ssm..Lambda_re (32,) True\n",
      ".blocks.[0]..ssm..Lambda_im (32,) True\n",
      ".blocks.[0]..ssm..B (32, 64, 2) True\n",
      ".blocks.[0]..ssm..C (64, 32, 2) True\n",
      ".blocks.[0]..ssm..D (64,) True\n",
      ".blocks.[0]..ssm..log_step (32, 1) True\n",
      ".blocks.[0]..glu..w1..weight (64, 64) True\n",
      ".blocks.[0]..glu..w1..bias (64,) True\n",
      ".blocks.[0]..glu..w2..weight (64, 64) True\n",
      ".blocks.[0]..glu..w2..bias (64,) True\n",
      ".blocks.[1]..norm..first_time_index..init () True\n",
      ".blocks.[1]..norm..state_index..init.[0] (64,) True\n",
      ".blocks.[1]..norm..state_index..init.[1] (64,) True\n",
      ".blocks.[1]..ssm..Lambda_re (32,) True\n",
      ".blocks.[1]..ssm..Lambda_im (32,) True\n",
      ".blocks.[1]..ssm..B (32, 64, 2) True\n",
      ".blocks.[1]..ssm..C (64, 32, 2) True\n",
      ".blocks.[1]..ssm..D (64,) True\n",
      ".blocks.[1]..ssm..log_step (32, 1) True\n",
      ".blocks.[1]..glu..w1..weight (64, 64) True\n",
      ".blocks.[1]..glu..w1..bias (64,) True\n",
      ".blocks.[1]..glu..w2..weight (64, 64) True\n",
      ".blocks.[1]..glu..w2..bias (64,) True\n",
      ".linear_layer..weight (2, 64) True\n",
      ".linear_layer..bias (2,) True\n"
     ]
    }
   ],
   "source": [
    "import jax.tree_util as jtu\n",
    "\n",
    "for path, value in jtu.tree_flatten_with_path(model)[0]:\n",
    "    if  eqx.is_array(value):\n",
    "        print(\".\".join(str(p) for p in path), value.shape if hasattr(value, 'shape') else value, eqx.is_array(value))"
   ]
  },
  {
   "cell_type": "code",
   "execution_count": null,
   "id": "15543393",
   "metadata": {},
   "outputs": [],
   "source": []
  }
 ],
 "metadata": {
  "kernelspec": {
   "display_name": "foundational_ssm",
   "language": "python",
   "name": "python3"
  },
  "language_info": {
   "codemirror_mode": {
    "name": "ipython",
    "version": 3
   },
   "file_extension": ".py",
   "mimetype": "text/x-python",
   "name": "python",
   "nbconvert_exporter": "python",
   "pygments_lexer": "ipython3",
   "version": "3.13.5"
  }
 },
 "nbformat": 4,
 "nbformat_minor": 5
}
