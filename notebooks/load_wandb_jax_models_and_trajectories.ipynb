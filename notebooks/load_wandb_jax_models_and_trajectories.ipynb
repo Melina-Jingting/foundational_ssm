{
 "cells": [
  {
   "cell_type": "code",
   "execution_count": null,
   "id": "fed3b20e",
   "metadata": {},
   "outputs": [],
   "source": [
    "import wandb\n",
    "import equinox as eqx\n",
    "import os \n",
    "\n",
    "# Foundational SSM imports\n",
    "from omegaconf import OmegaConf\n",
    "import tempfile \n",
    "from foundational_ssm.models import SSMDownstreamDecoder\n",
    "\n",
    "def load_model_and_state_from_checkpoint_wandb(artifact_full_name, model_cls=SSMDownstreamDecoder):\n",
    "    \"\"\"Load model, optimizer state, epoch, and step from a checkpoint file.\"\"\"\n",
    "    api = wandb.Api()\n",
    "    try:\n",
    "        artifact = api.artifact(artifact_full_name, type=\"checkpoint\")\n",
    "    except Exception as e:\n",
    "        raise FileNotFoundError(f\"Could not find checkpoint artifact: {artifact_full_name}\")\n",
    "    \n",
    "    run = artifact.logged_by()\n",
    "    run_cfg = OmegaConf.create(run.config)\n",
    "    model_cfg = OmegaConf.create(run_cfg.model)\n",
    "    model_template, state_template = eqx.nn.make_with_state(model_cls)(\n",
    "        **model_cfg,\n",
    "    )\n",
    "    \n",
    "    with tempfile.TemporaryDirectory() as temp_dir:\n",
    "        artifact.download(temp_dir)\n",
    "        model = eqx.tree_deserialise_leaves(os.path.join(temp_dir, \"model.ckpt\"), model_template)\n",
    "        state = eqx.tree_deserialise_leaves(os.path.join(temp_dir, \"state.ckpt\"), state_template)\n",
    "\n",
    "    meta = artifact.metadata\n",
    "    return model, state, meta"
   ]
  }
 ],
 "metadata": {
  "kernelspec": {
   "display_name": "Python 3",
   "language": "python",
   "name": "python3"
  },
  "language_info": {
   "codemirror_mode": {
    "name": "ipython",
    "version": 3
   },
   "file_extension": ".py",
   "mimetype": "text/x-python",
   "name": "python",
   "nbconvert_exporter": "python",
   "pygments_lexer": "ipython3",
   "version": "3.13.5"
  }
 },
 "nbformat": 4,
 "nbformat_minor": 5
}
