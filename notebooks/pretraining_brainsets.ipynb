{
 "cells": [
  {
   "cell_type": "code",
   "execution_count": 12,
   "id": "47df9b07",
   "metadata": {},
   "outputs": [
    {
     "name": "stdout",
     "output_type": "stream",
     "text": [
      "The autoreload extension is already loaded. To reload it, use:\n",
      "  %reload_ext autoreload\n"
     ]
    }
   ],
   "source": [
    "import os\n",
    "import sys\n",
    "import warnings\n",
    "import logging\n",
    "import torch\n",
    "from omegaconf import OmegaConf\n",
    "\n",
    "# Suppress warnings and logging\n",
    "warnings.filterwarnings('ignore')\n",
    "logging.disable(logging.WARNING)\n",
    "\n",
    "# Core imports\n",
    "from foundational_ssm.utils import get_default_config, device, load_yaml_config, get_train_val_loaders, get_dataset_config\n",
    "from foundational_ssm.models import SSMNeuroModel\n",
    "from foundational_ssm.loss import CombinedLoss\n",
    "from foundational_ssm.trainer import train_mtm\n",
    "from foundational_ssm.metrics import ValidationMetrics\n",
    "\n",
    "%load_ext autoreload\n",
    "%autoreload 2"
   ]
  },
  {
   "cell_type": "code",
   "execution_count": null,
   "id": "3ce6ef13",
   "metadata": {},
   "outputs": [
    {
     "ename": "KeyError",
     "evalue": "{'name': 'perich_miller_population_2018', 'subjects': ['c', 'm', 't'], 'batch_size': 128, 'root': '/cs/student/projects1/ml/2024/mlaimon/data/foundational_ssm/processed/'}",
     "output_type": "error",
     "traceback": [
      "\u001b[31m---------------------------------------------------------------------------\u001b[39m",
      "\u001b[31mKeyError\u001b[39m                                  Traceback (most recent call last)",
      "\u001b[36mCell\u001b[39m\u001b[36m \u001b[39m\u001b[32mIn[17]\u001b[39m\u001b[32m, line 3\u001b[39m\n\u001b[32m      1\u001b[39m config_dir = \u001b[33m\"\u001b[39m\u001b[33m/cs/student/projects1/ml/2024/mlaimon/foundational_ssm/configs\u001b[39m\u001b[33m\"\u001b[39m\n\u001b[32m      2\u001b[39m full_config = OmegaConf.load(os.path.join(config_dir, \u001b[33m\"\u001b[39m\u001b[33mcmt.yaml\u001b[39m\u001b[33m\"\u001b[39m))\n\u001b[32m----> \u001b[39m\u001b[32m3\u001b[39m dataset_config = \u001b[43mget_dataset_config\u001b[49m\u001b[43m(\u001b[49m\u001b[43mfull_config\u001b[49m\u001b[43m.\u001b[49m\u001b[43mdataset\u001b[49m\u001b[43m)\u001b[49m\n\u001b[32m      4\u001b[39m train_dataset, train_loader, val_dataset, val_loader = get_train_val_loaders(brainset = dataset_config.name, train_config=dataset_config)\n",
      "\u001b[36mFile \u001b[39m\u001b[32m/cs/student/projects1/ml/2024/mlaimon/foundational_ssm/src/foundational_ssm/utils/data.py:84\u001b[39m, in \u001b[36mget_dataset_config\u001b[39m\u001b[34m(brainset, sessions, subjects, exclude_subjects, exclude_sessions)\u001b[39m\n\u001b[32m     77\u001b[39m         \u001b[38;5;28;01mfor\u001b[39;00m sess \u001b[38;5;129;01min\u001b[39;00m exclude_sessions:\n\u001b[32m     78\u001b[39m             config += \u001b[33mf\u001b[39m\u001b[33m\"\u001b[39m\u001b[38;5;130;01m\\n\u001b[39;00m\u001b[33m            - \u001b[39m\u001b[38;5;132;01m{\u001b[39;00msess\u001b[38;5;132;01m}\u001b[39;00m\u001b[33m\"\u001b[39m\n\u001b[32m     80\u001b[39m config += \u001b[33mf\u001b[39m\u001b[33m\"\"\"\u001b[39m\n\u001b[32m     81\u001b[39m \u001b[33m  config:\u001b[39m\n\u001b[32m     82\u001b[39m \u001b[33m    readout:\u001b[39m\n\u001b[32m     83\u001b[39m \u001b[33m      readout_id: cursor_velocity_2d\u001b[39m\n\u001b[32m---> \u001b[39m\u001b[32m84\u001b[39m \u001b[33m      normalize_mean: \u001b[39m\u001b[38;5;132;01m{\u001b[39;00m\u001b[43mbrainset_norms\u001b[49m\u001b[43m[\u001b[49m\u001b[43mbrainset\u001b[49m\u001b[43m]\u001b[49m[\u001b[33m\"\u001b[39m\u001b[33mmean\u001b[39m\u001b[33m\"\u001b[39m]\u001b[38;5;132;01m}\u001b[39;00m\n\u001b[32m     85\u001b[39m \u001b[33m      normalize_std: \u001b[39m\u001b[38;5;132;01m{\u001b[39;00mbrainset_norms[brainset][\u001b[33m\"\u001b[39m\u001b[33mstd\u001b[39m\u001b[33m\"\u001b[39m]\u001b[38;5;132;01m}\u001b[39;00m\n\u001b[32m     86\u001b[39m \u001b[33m      metrics:\u001b[39m\n\u001b[32m     87\u001b[39m \u001b[33m        - metric:\u001b[39m\n\u001b[32m     88\u001b[39m \u001b[33m            _target_: torchmetrics.R2Score\u001b[39m\n\u001b[32m     89\u001b[39m \u001b[33m\u001b[39m\u001b[33m\"\"\"\u001b[39m\n\u001b[32m     91\u001b[39m config = OmegaConf.create(config)\n\u001b[32m     93\u001b[39m \u001b[38;5;28;01mreturn\u001b[39;00m config\n",
      "\u001b[31mKeyError\u001b[39m: {'name': 'perich_miller_population_2018', 'subjects': ['c', 'm', 't'], 'batch_size': 128, 'root': '/cs/student/projects1/ml/2024/mlaimon/data/foundational_ssm/processed/'}"
     ]
    }
   ],
   "source": [
    "config_dir = \"/cs/student/projects1/ml/2024/mlaimon/foundational_ssm/configs\"\n",
    "full_config = OmegaConf.load(os.path.join(config_dir, \"cmt.yaml\"))\n",
    "dataset_config = get_dataset_config(full_config.dataset.name, subjects=full_config.dataset.subjects)\n",
    "train_dataset, train_loader, val_dataset, val_loader = get_train_val_loaders(dataset_config.)"
   ]
  },
  {
   "cell_type": "code",
   "execution_count": 16,
   "id": "d5601929",
   "metadata": {},
   "outputs": [
    {
     "data": {
      "text/plain": [
       "'perich_miller_population_2018'"
      ]
     },
     "execution_count": 16,
     "metadata": {},
     "output_type": "execute_result"
    }
   ],
   "source": [
    "full_config.dataset.name"
   ]
  },
  {
   "cell_type": "code",
   "execution_count": null,
   "id": "0befae74",
   "metadata": {},
   "outputs": [],
   "source": []
  }
 ],
 "metadata": {
  "kernelspec": {
   "display_name": "foundational_ssm",
   "language": "python",
   "name": "python3"
  },
  "language_info": {
   "codemirror_mode": {
    "name": "ipython",
    "version": 3
   },
   "file_extension": ".py",
   "mimetype": "text/x-python",
   "name": "python",
   "nbconvert_exporter": "python",
   "pygments_lexer": "ipython3",
   "version": "3.13.5"
  }
 },
 "nbformat": 4,
 "nbformat_minor": 5
}
