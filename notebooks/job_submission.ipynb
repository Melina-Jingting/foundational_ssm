{
 "cells": [
  {
   "cell_type": "code",
   "execution_count": null,
   "id": "e36dd21d",
   "metadata": {},
   "outputs": [],
   "source": [
    "# Imports\n",
    "import torch\n",
    "from dask_jobqueue import SLURMCluster\n",
    "from distributed import Client\n",
    "from run_couplingbgm_mixed import run_experiment\n",
    "from csuite_mixed import SCMS"
   ]
  },
  {
   "cell_type": "code",
   "execution_count": null,
   "id": "36b53943",
   "metadata": {},
   "outputs": [],
   "source": [
    "seeds = 10\n",
    "nsamples = 2000\n",
    "corr = 0.0\n",
    "use_dag = False\n",
    "affine = False\n",
    "consistent = False\n",
    "scms = list(SCMS.keys())\n"
   ]
  },
  {
   "cell_type": "code",
   "execution_count": null,
   "id": "3cdd662e",
   "metadata": {},
   "outputs": [],
   "source": [
    "cluster = SLURMCluster(\n",
    "    n_workers=0,\n",
    "    memory=\"20GB\",\n",
    "    processes=1,\n",
    "    cores=1,\n",
    "    scheduler_options={\n",
    "        \"dashboard_address\": \":10092\",\n",
    "        \"allowed_failures\": 10\n",
    "    },\n",
    "    job_cpu=1,\n",
    "    walltime=\"24:0:0\",\n",
    ")\n",
    "cluster.adapt(minimum=0, maximum=200)\n",
    "client = Client(cluster)"
   ]
  },
  {
   "cell_type": "code",
   "execution_count": null,
   "id": "51275b56",
   "metadata": {},
   "outputs": [],
   "source": [
    "futures = []\n",
    "for scm in scms:\n",
    "    for seed in range(seeds):\n",
    "        f = client.submit(run_experiment, \n",
    "                          sc_name = scm,\n",
    "                          seed = seed,\n",
    "                          use_dag = use_dag,\n",
    "                          corr = corr,\n",
    "                          N = nsamples,\n",
    "                          affine = affine,\n",
    "                          consistent = consistent)\n",
    "        futures += [f] "
   ]
  },
  {
   "cell_type": "code",
   "execution_count": null,
   "id": "8766425c",
   "metadata": {},
   "outputs": [],
   "source": [
    "results = client.gather(futures)\n",
    "client.close()\n",
    "cluster.close()"
   ]
  }
 ],
 "metadata": {
  "language_info": {
   "name": "python"
  }
 },
 "nbformat": 4,
 "nbformat_minor": 5
}
