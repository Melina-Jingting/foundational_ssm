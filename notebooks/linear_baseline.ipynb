{
 "cells": [
  {
   "cell_type": "code",
   "execution_count": null,
   "id": "ffb72592",
   "metadata": {},
   "outputs": [],
   "source": [
    "from foundational_ssm.utils import h5_to_dict \n",
    "import os\n",
    "import multiprocessing as mp\n",
    "import logging\n",
    "import hydra\n",
    "from dotenv import load_dotenv\n",
    "\n",
    "# Third-party imports\n",
    "import numpy as np\n",
    "import wandb\n",
    "from jax import random as jr\n",
    "import equinox as eqx\n",
    "\n",
    "# Foundational SSM imports\n",
    "from omegaconf import OmegaConf\n",
    "\n",
    "from foundational_ssm.utils.downstream_utils import (\n",
    "    mse_loss_downstream,\n",
    "    train_one_epoch,\n",
    "    validate_one_epoch,\n",
    "    create_model_and_state,\n",
    "    create_dataloader,\n",
    "    log_predictions_and_activations,\n",
    "    get_rtt_datasets\n",
    ")\n",
    "from foundational_ssm.utils.training_utils import (\n",
    "    create_optimizer_and_state\n",
    ")\n",
    "from foundational_ssm.utils.wandb_utils_jax import (\n",
    "    save_checkpoint_wandb,\n",
    "    add_alias_to_checkpoint\n",
    "    )\n",
    "from foundational_ssm.models import SSMDownstreamDecoder\n",
    "from foundational_ssm.transform import smooth_spikes\n",
    "import multiprocessing as mp\n",
    "import joblib\n",
    "\n",
    "def create_sliding_window_features(input_array, history_length=56):\n",
    "    \"\"\"\n",
    "    Transform neural input data by applying a sliding window approach that concatenates\n",
    "    historical timesteps for each output timestep.\n",
    "    \n",
    "    Parameters:\n",
    "    -----------\n",
    "    input_array : numpy.ndarray\n",
    "        Input array of shape (batch_size, total_timesteps, features)\n",
    "    history_length : int, optional\n",
    "        Number of historical timesteps to include for each output, default is 56\n",
    "        \n",
    "    Returns:\n",
    "    --------\n",
    "    numpy.ndarray\n",
    "        Transformed array with shape (batch_size, total_timesteps - history_length, features * history_length)\n",
    "        where each timestep contains the flattened history window\n",
    "    \"\"\"\n",
    "    batch_size, total_timesteps, features = input_array.shape\n",
    "    output_timesteps = total_timesteps - history_length\n",
    "    output_array = np.zeros((batch_size, output_timesteps, features * history_length))\n",
    "    \n",
    "    for t in range(output_timesteps):\n",
    "        # Extract the history window for each timestep\n",
    "        history_window = input_array[:, t:t+history_length, :] \n",
    "        # Reshape to flatten the history dimension\n",
    "        flattened_history = history_window.reshape(batch_size, -1)\n",
    "        # Store the flattened history in the output array\n",
    "        output_array[:, t, :] = flattened_history\n",
    "    \n",
    "    return output_array"
   ]
  },
  {
   "cell_type": "code",
   "execution_count": null,
   "id": "4092c08a",
   "metadata": {},
   "outputs": [],
   "source": [
    "cfg = OmegaConf.load(\"../configs/rtt.yaml\")\n",
    "train_data, val_data, data = get_rtt_datasets(cfg.dataset, jr.PRNGKey(0))\n",
    "\n",
    "history_length=56\n",
    "train_inputs = smooth_spikes(train_data['neural_input'])\n",
    "train_inputs = create_sliding_window_features(train_inputs, history_length)\n",
    "train_targets = train_data['behavior_input'][:, history_length:, :]  # Shape (378, 708, 1)\n",
    "val_inputs = smooth_spikes(val_data['neural_input'])\n",
    "val_inputs = create_sliding_window_features(val_inputs, history_length)\n",
    "val_targets = val_data['behavior_input'][:, history_length:, :]  # Shape (378, 708, 1)\n",
    "\n",
    "print(\"train_inputs shape:\", train_inputs.shape)\n",
    "print(\"train_targets shape:\", train_targets.shape)\n",
    "print(\"val_inputs shape:\", val_inputs.shape)\n",
    "print(\"val_targets shape:\", val_targets.shape)"
   ]
  },
  {
   "cell_type": "code",
   "execution_count": null,
   "id": "681658b7",
   "metadata": {},
   "outputs": [
    {
     "name": "stderr",
     "output_type": "stream",
     "text": [
      "0it [00:00, ?it/s]"
     ]
    },
    {
     "name": "stdout",
     "output_type": "stream",
     "text": [
      "Cross-validation fold with 252 training trials and 126 validation trials\n",
      "Training model with alpha=1e-05\n",
      "    Training MSE after epoch 1: 702.1558\n",
      "    Training MSE after epoch 2: 656.4853\n",
      "    Training MSE after epoch 3: 641.6966\n",
      "    Training MSE after epoch 4: 632.8040\n",
      "    Training MSE after epoch 5: 629.6564\n",
      "    Training MSE after epoch 6: 625.1412\n",
      "    Training MSE after epoch 7: 622.5171\n",
      "    Training MSE after epoch 8: 622.6033\n",
      "    Training MSE after epoch 9: 618.5331\n",
      "    Training MSE after epoch 10: 613.5893\n",
      "    Training MSE after epoch 11: 607.3859\n",
      "    Training MSE after epoch 12: 606.9892\n",
      "    Training MSE after epoch 13: 604.1966\n",
      "    Training MSE after epoch 14: 604.2250\n",
      "    Training MSE after epoch 15: 599.3320\n",
      "    Training MSE after epoch 16: 599.5498\n",
      "    Training MSE after epoch 17: 603.8016\n",
      "    Training MSE after epoch 18: 597.8777\n",
      "    Training MSE after epoch 19: 594.6839\n",
      "    Training MSE after epoch 20: 595.8588\n",
      "    Training MSE after epoch 21: 599.1164\n",
      "    Training MSE after epoch 22: 593.5130\n",
      "    Training MSE after epoch 23: 595.2059\n",
      "    Training MSE after epoch 24: 592.8162\n",
      "    Training MSE after epoch 25: 594.2904\n",
      "    Training MSE after epoch 26: 599.0736\n",
      "    Training MSE after epoch 27: 599.8510\n",
      "    Training MSE after epoch 28: 591.7813\n",
      "    Training MSE after epoch 29: 589.3400\n",
      "    Training MSE after epoch 30: 590.0731\n",
      "    Training MSE after epoch 31: 588.1972\n",
      "    Training MSE after epoch 32: 589.8836\n",
      "    Training MSE after epoch 33: 590.9294\n",
      "    Training MSE after epoch 34: 587.8210\n",
      "    Training MSE after epoch 35: 593.1530\n",
      "    Training MSE after epoch 36: 589.5093\n",
      "    Training MSE after epoch 37: 584.9169\n",
      "    Training MSE after epoch 38: 588.6795\n",
      "    Training MSE after epoch 39: 586.5084\n",
      "    Training MSE after epoch 40: 584.4917\n",
      "    Training MSE after epoch 41: 585.3647\n",
      "    Training MSE after epoch 42: 584.0428\n",
      "    Training MSE after epoch 43: 584.1390\n",
      "    Training MSE after epoch 44: 586.1790\n",
      "    Training MSE after epoch 45: 582.6674\n",
      "    Training MSE after epoch 46: 584.6044\n",
      "    Training MSE after epoch 47: 583.0456\n",
      "    Training MSE after epoch 48: 582.7102\n",
      "    Training MSE after epoch 49: 586.8555\n",
      "    Training MSE after epoch 50: 592.0270\n",
      "    Training MSE after epoch 51: 589.6315\n",
      "    Training MSE after epoch 52: 585.7068\n",
      "    Training MSE after epoch 53: 581.9385\n",
      "    Training MSE after epoch 54: 583.8935\n",
      "    Training MSE after epoch 55: 581.9599\n",
      "    Training MSE after epoch 56: 587.8574\n",
      "    Training MSE after epoch 57: 588.5119\n",
      "    Training MSE after epoch 58: 590.6430\n",
      "    Training MSE after epoch 59: 580.7500\n",
      "    Training MSE after epoch 60: 579.7268\n",
      "    Training MSE after epoch 61: 580.3718\n",
      "    Training MSE after epoch 62: 579.5735\n",
      "    Training MSE after epoch 63: 580.8233\n",
      "    Training MSE after epoch 64: 579.5792\n",
      "    Training MSE after epoch 65: 581.2169\n",
      "    Training MSE after epoch 66: 586.6968\n",
      "    Training MSE after epoch 67: 578.9305\n",
      "    Training MSE after epoch 68: 579.8316\n",
      "    Training MSE after epoch 69: 579.4008\n",
      "    Training MSE after epoch 70: 582.3050\n",
      "    Training MSE after epoch 71: 578.3785\n",
      "    Training MSE after epoch 72: 580.3444\n",
      "    Training MSE after epoch 73: 580.2850\n",
      "    Training MSE after epoch 74: 583.3650\n",
      "    Training MSE after epoch 75: 578.3702\n",
      "    Training MSE after epoch 76: 577.7331\n",
      "    Training MSE after epoch 77: 578.3787\n",
      "    Training MSE after epoch 78: 577.0419\n",
      "    Training MSE after epoch 79: 579.2585\n",
      "    Training MSE after epoch 80: 580.1079\n",
      "    Training MSE after epoch 81: 577.8281\n",
      "    Training MSE after epoch 82: 579.9821\n",
      "    Training MSE after epoch 83: 578.9255\n",
      "    Training MSE after epoch 84: 584.3604\n",
      "    Training MSE after epoch 85: 578.1217\n",
      "    Training MSE after epoch 86: 576.6030\n",
      "    Training MSE after epoch 87: 576.3089\n",
      "    Training MSE after epoch 88: 577.7459\n",
      "    Training MSE after epoch 89: 577.4470\n",
      "    Training MSE after epoch 90: 578.9084\n",
      "    Training MSE after epoch 91: 578.2251\n",
      "    Training MSE after epoch 92: 579.9161\n",
      "    Training MSE after epoch 93: 578.1659\n",
      "    Training MSE after epoch 94: 576.7143\n",
      "    Training MSE after epoch 95: 578.6642\n",
      "    Training MSE after epoch 96: 576.5641\n",
      "    Training MSE after epoch 97: 581.7951\n",
      "    Training MSE after epoch 98: 579.6936\n",
      "    Training stopped early after 98 epochs\n",
      "alpha=1e-05| Validation MSE : 759.8117 | R2 Score: 0.2078\n",
      "Training model with alpha=0.0001\n",
      "    Training MSE after epoch 1: 708.3235\n",
      "    Training MSE after epoch 2: 661.0824\n",
      "    Training MSE after epoch 3: 645.4126\n",
      "    Training MSE after epoch 4: 631.7753\n",
      "    Training MSE after epoch 5: 625.8095\n",
      "    Training MSE after epoch 6: 622.0143\n",
      "    Training MSE after epoch 7: 618.2185\n",
      "    Training MSE after epoch 8: 622.7238\n",
      "    Training MSE after epoch 9: 612.9863\n",
      "    Training MSE after epoch 10: 609.1239\n",
      "    Training MSE after epoch 11: 606.1407\n",
      "    Training MSE after epoch 12: 606.5280\n",
      "    Training MSE after epoch 13: 623.7076\n",
      "    Training MSE after epoch 14: 607.4243\n",
      "    Training MSE after epoch 15: 600.3950\n",
      "    Training MSE after epoch 16: 599.3602\n",
      "    Training MSE after epoch 17: 603.1592\n",
      "    Training MSE after epoch 18: 599.0686\n",
      "    Training MSE after epoch 19: 596.8892\n",
      "    Training MSE after epoch 20: 595.4261\n",
      "    Training MSE after epoch 21: 595.0949\n",
      "    Training MSE after epoch 22: 595.9021\n",
      "    Training MSE after epoch 23: 594.2199\n",
      "    Training MSE after epoch 24: 601.1003\n",
      "    Training MSE after epoch 25: 593.0686\n",
      "    Training MSE after epoch 26: 592.2146\n",
      "    Training MSE after epoch 27: 608.7852\n",
      "    Training MSE after epoch 28: 595.0892\n",
      "    Training MSE after epoch 29: 595.7601\n",
      "    Training MSE after epoch 30: 590.0018\n",
      "    Training MSE after epoch 31: 592.7956\n",
      "    Training MSE after epoch 32: 590.1694\n",
      "    Training MSE after epoch 33: 588.2458\n",
      "    Training MSE after epoch 34: 593.5815\n",
      "    Training MSE after epoch 35: 588.1110\n",
      "    Training MSE after epoch 36: 591.0968\n",
      "    Training MSE after epoch 37: 586.7383\n",
      "    Training MSE after epoch 38: 587.1590\n",
      "    Training MSE after epoch 39: 590.3370\n",
      "    Training MSE after epoch 40: 589.4058\n",
      "    Training MSE after epoch 41: 593.5688\n",
      "    Training MSE after epoch 42: 588.7262\n",
      "    Training MSE after epoch 43: 601.1411\n",
      "    Training MSE after epoch 44: 587.1803\n",
      "    Training MSE after epoch 45: 587.7501\n",
      "    Training MSE after epoch 46: 584.7825\n",
      "    Training MSE after epoch 47: 587.3533\n",
      "    Training MSE after epoch 48: 586.6362\n",
      "    Training MSE after epoch 49: 585.4320\n",
      "    Training MSE after epoch 50: 584.2214\n",
      "    Training MSE after epoch 51: 583.1887\n",
      "    Training MSE after epoch 52: 587.1536\n",
      "    Training MSE after epoch 53: 585.3186\n",
      "    Training MSE after epoch 54: 585.1973\n",
      "    Training MSE after epoch 55: 586.7943\n",
      "    Training MSE after epoch 56: 582.7123\n",
      "    Training MSE after epoch 57: 582.8231\n",
      "    Training MSE after epoch 58: 587.3467\n",
      "    Training MSE after epoch 59: 583.4779\n",
      "    Training MSE after epoch 60: 589.6687\n",
      "    Training MSE after epoch 61: 587.6413\n",
      "    Training MSE after epoch 62: 582.7315\n",
      "    Training MSE after epoch 63: 584.5876\n",
      "    Training MSE after epoch 64: 581.9735\n",
      "    Training MSE after epoch 65: 581.3201\n",
      "    Training MSE after epoch 66: 582.3925\n",
      "    Training MSE after epoch 67: 583.4620\n",
      "    Training MSE after epoch 68: 581.4144\n",
      "    Training MSE after epoch 69: 582.7765\n",
      "    Training MSE after epoch 70: 584.0649\n",
      "    Training MSE after epoch 71: 581.4307\n",
      "    Training MSE after epoch 72: 583.2818\n",
      "    Training MSE after epoch 73: 586.8933\n",
      "    Training MSE after epoch 74: 581.5258\n",
      "    Training MSE after epoch 75: 581.0928\n",
      "    Training MSE after epoch 76: 584.1440\n",
      "    Training MSE after epoch 77: 585.1922\n",
      "    Training MSE after epoch 78: 583.6483\n",
      "    Training MSE after epoch 79: 580.7065\n",
      "    Training MSE after epoch 80: 582.0147\n",
      "    Training MSE after epoch 81: 583.0250\n",
      "    Training MSE after epoch 82: 585.6105\n",
      "    Training MSE after epoch 83: 584.4177\n",
      "    Training MSE after epoch 84: 584.5586\n",
      "    Training MSE after epoch 85: 579.2162\n",
      "    Training MSE after epoch 86: 579.6870\n",
      "    Training MSE after epoch 87: 585.2211\n",
      "    Training MSE after epoch 88: 580.2149\n",
      "    Training MSE after epoch 89: 578.5651\n",
      "    Training MSE after epoch 90: 580.7147\n",
      "    Training MSE after epoch 91: 578.3414\n",
      "    Training MSE after epoch 92: 580.7066\n",
      "    Training MSE after epoch 93: 579.8275\n",
      "    Training MSE after epoch 94: 580.4337\n",
      "    Training MSE after epoch 95: 578.6077\n",
      "    Training MSE after epoch 96: 581.5895\n",
      "    Training MSE after epoch 97: 579.9046\n",
      "    Training MSE after epoch 98: 579.9079\n",
      "    Training MSE after epoch 99: 588.1345\n",
      "    Training MSE after epoch 100: 580.5669\n"
     ]
    },
    {
     "name": "stderr",
     "output_type": "stream",
     "text": [
      "1it [22:13, 1333.28s/it]"
     ]
    },
    {
     "name": "stdout",
     "output_type": "stream",
     "text": [
      "alpha=0.0001| Validation MSE : 740.0912 | R2 Score: 0.2066\n",
      "Cross-validation fold with 252 training trials and 126 validation trials\n",
      "Training model with alpha=1e-05\n",
      "    Training MSE after epoch 1: 711.6710\n",
      "    Training MSE after epoch 2: 675.7316\n",
      "    Training MSE after epoch 3: 656.0654\n",
      "    Training MSE after epoch 4: 647.5854\n",
      "    Training MSE after epoch 5: 645.8840\n",
      "    Training MSE after epoch 6: 634.1346\n",
      "    Training MSE after epoch 7: 635.2355\n",
      "    Training MSE after epoch 8: 634.9375\n",
      "    Training MSE after epoch 9: 622.0853\n",
      "    Training MSE after epoch 10: 626.2802\n",
      "    Training MSE after epoch 11: 620.3481\n",
      "    Training MSE after epoch 12: 623.9066\n",
      "    Training MSE after epoch 13: 615.8639\n",
      "    Training MSE after epoch 14: 623.1905\n",
      "    Training MSE after epoch 15: 611.9682\n",
      "    Training MSE after epoch 16: 622.1644\n",
      "    Training MSE after epoch 17: 608.8086\n",
      "    Training MSE after epoch 18: 609.0225\n",
      "    Training MSE after epoch 19: 610.4157\n",
      "    Training MSE after epoch 20: 609.1578\n",
      "    Training MSE after epoch 21: 605.5011\n",
      "    Training MSE after epoch 22: 604.5157\n",
      "    Training MSE after epoch 23: 609.3084\n",
      "    Training MSE after epoch 24: 602.6001\n",
      "    Training MSE after epoch 25: 602.7280\n",
      "    Training MSE after epoch 26: 607.1203\n",
      "    Training MSE after epoch 27: 609.7633\n",
      "    Training MSE after epoch 28: 601.7255\n",
      "    Training MSE after epoch 29: 602.9992\n",
      "    Training MSE after epoch 30: 603.5993\n",
      "    Training MSE after epoch 31: 601.5747\n",
      "    Training MSE after epoch 32: 605.3119\n",
      "    Training MSE after epoch 33: 601.7683\n",
      "    Training MSE after epoch 34: 602.4138\n",
      "    Training MSE after epoch 35: 597.4395\n",
      "    Training MSE after epoch 36: 600.9054\n",
      "    Training MSE after epoch 37: 598.3074\n",
      "    Training MSE after epoch 38: 601.1123\n",
      "    Training MSE after epoch 39: 596.5306\n",
      "    Training MSE after epoch 40: 596.8520\n",
      "    Training MSE after epoch 41: 598.4769\n",
      "    Training MSE after epoch 42: 599.5357\n",
      "    Training MSE after epoch 43: 595.1594\n",
      "    Training MSE after epoch 44: 610.3176\n",
      "    Training MSE after epoch 45: 599.6777\n",
      "    Training MSE after epoch 46: 598.9802\n",
      "    Training MSE after epoch 47: 594.7049\n",
      "    Training MSE after epoch 48: 597.2898\n",
      "    Training MSE after epoch 49: 593.5999\n",
      "    Training MSE after epoch 50: 599.3118\n",
      "    Training MSE after epoch 51: 601.7610\n",
      "    Training MSE after epoch 52: 595.6258\n",
      "    Training MSE after epoch 53: 593.0977\n",
      "    Training MSE after epoch 54: 592.0929\n",
      "    Training MSE after epoch 55: 605.3255\n",
      "    Training MSE after epoch 56: 592.0837\n",
      "    Training MSE after epoch 57: 592.3506\n",
      "    Training MSE after epoch 58: 593.0720\n",
      "    Training MSE after epoch 59: 592.5779\n",
      "    Training MSE after epoch 60: 591.3700\n",
      "    Training MSE after epoch 61: 595.6003\n",
      "    Training MSE after epoch 62: 592.6346\n",
      "    Training MSE after epoch 63: 591.3569\n",
      "    Training MSE after epoch 64: 591.2089\n",
      "    Training MSE after epoch 65: 589.7339\n",
      "    Training MSE after epoch 66: 590.8176\n",
      "    Training MSE after epoch 67: 590.2307\n",
      "    Training MSE after epoch 68: 589.9098\n",
      "    Training MSE after epoch 69: 591.9141\n",
      "    Training MSE after epoch 70: 591.5441\n",
      "    Training MSE after epoch 71: 589.5602\n",
      "    Training MSE after epoch 72: 597.8087\n",
      "    Training MSE after epoch 73: 590.5645\n",
      "    Training MSE after epoch 74: 590.2647\n",
      "    Training MSE after epoch 75: 590.8303\n",
      "    Training MSE after epoch 76: 588.6802\n",
      "    Training MSE after epoch 77: 589.8465\n",
      "    Training MSE after epoch 78: 589.2737\n",
      "    Training MSE after epoch 79: 591.9783\n",
      "    Training MSE after epoch 80: 591.3255\n",
      "    Training MSE after epoch 81: 594.2397\n",
      "    Training MSE after epoch 82: 598.8343\n",
      "    Training MSE after epoch 83: 592.8177\n",
      "    Training MSE after epoch 84: 588.1828\n",
      "    Training MSE after epoch 85: 588.0076\n",
      "    Training MSE after epoch 86: 588.6335\n",
      "    Training MSE after epoch 87: 592.4569\n",
      "    Training MSE after epoch 88: 588.1540\n",
      "    Training MSE after epoch 89: 588.0526\n",
      "    Training MSE after epoch 90: 588.4653\n",
      "    Training MSE after epoch 91: 591.4048\n",
      "    Training MSE after epoch 92: 587.6045\n",
      "    Training MSE after epoch 93: 589.3389\n",
      "    Training MSE after epoch 94: 588.4752\n",
      "    Training MSE after epoch 95: 586.7777\n",
      "    Training MSE after epoch 96: 586.2680\n",
      "    Training MSE after epoch 97: 587.9574\n",
      "    Training MSE after epoch 98: 586.3406\n",
      "    Training MSE after epoch 99: 586.5043\n",
      "    Training MSE after epoch 100: 585.9173\n",
      "alpha=1e-05| Validation MSE : 753.1981 | R2 Score: 0.2743\n",
      "Training model with alpha=0.0001\n",
      "    Training MSE after epoch 1: 706.9931\n",
      "    Training MSE after epoch 2: 680.8418\n",
      "    Training MSE after epoch 3: 660.9694\n",
      "    Training MSE after epoch 4: 645.2597\n",
      "    Training MSE after epoch 5: 641.1198\n",
      "    Training MSE after epoch 6: 633.6344\n",
      "    Training MSE after epoch 7: 635.8352\n",
      "    Training MSE after epoch 8: 624.9573\n",
      "    Training MSE after epoch 9: 625.8258\n",
      "    Training MSE after epoch 10: 621.4909\n",
      "    Training MSE after epoch 11: 619.4798\n",
      "    Training MSE after epoch 12: 620.5705\n",
      "    Training MSE after epoch 13: 630.1905\n",
      "    Training MSE after epoch 14: 625.7891\n",
      "    Training MSE after epoch 15: 626.4159\n",
      "    Training MSE after epoch 16: 612.5776\n",
      "    Training MSE after epoch 17: 613.4618\n",
      "    Training MSE after epoch 18: 612.6025\n",
      "    Training MSE after epoch 19: 611.0599\n",
      "    Training MSE after epoch 20: 610.9413\n",
      "    Training MSE after epoch 21: 607.9182\n",
      "    Training MSE after epoch 22: 607.9158\n",
      "    Training MSE after epoch 23: 605.8376\n",
      "    Training MSE after epoch 24: 605.1644\n",
      "    Training MSE after epoch 25: 605.7770\n",
      "    Training MSE after epoch 26: 604.1732\n",
      "    Training MSE after epoch 27: 606.1575\n",
      "    Training MSE after epoch 28: 604.1373\n",
      "    Training MSE after epoch 29: 601.9390\n",
      "    Training MSE after epoch 30: 601.1510\n",
      "    Training MSE after epoch 31: 604.4266\n",
      "    Training MSE after epoch 32: 604.1220\n",
      "    Training MSE after epoch 33: 600.4279\n",
      "    Training MSE after epoch 34: 603.1302\n",
      "    Training MSE after epoch 35: 598.8105\n",
      "    Training MSE after epoch 36: 608.1824\n",
      "    Training MSE after epoch 37: 599.6479\n",
      "    Training MSE after epoch 38: 602.8340\n",
      "    Training MSE after epoch 39: 598.1190\n",
      "    Training MSE after epoch 40: 602.7098\n",
      "    Training MSE after epoch 41: 601.3302\n",
      "    Training MSE after epoch 42: 597.5563\n",
      "    Training MSE after epoch 43: 600.0216\n",
      "    Training MSE after epoch 44: 600.3993\n",
      "    Training MSE after epoch 45: 597.4545\n",
      "    Training MSE after epoch 46: 597.2037\n",
      "    Training MSE after epoch 47: 606.3793\n",
      "    Training MSE after epoch 48: 596.5756\n",
      "    Training MSE after epoch 49: 596.8866\n",
      "    Training MSE after epoch 50: 596.3675\n",
      "    Training MSE after epoch 51: 596.9698\n",
      "    Training MSE after epoch 52: 595.2506\n",
      "    Training MSE after epoch 53: 598.6332\n",
      "    Training MSE after epoch 54: 598.5728\n",
      "    Training MSE after epoch 55: 599.1891\n",
      "    Training MSE after epoch 56: 594.3701\n",
      "    Training MSE after epoch 57: 596.3337\n",
      "    Training MSE after epoch 58: 594.4758\n",
      "    Training MSE after epoch 59: 595.6978\n",
      "    Training MSE after epoch 60: 594.6215\n",
      "    Training MSE after epoch 61: 595.0429\n",
      "    Training MSE after epoch 62: 594.2720\n",
      "    Training MSE after epoch 63: 598.9928\n",
      "    Training MSE after epoch 64: 594.7409\n",
      "    Training MSE after epoch 65: 594.1487\n",
      "    Training MSE after epoch 66: 593.2515\n",
      "    Training MSE after epoch 67: 597.1417\n",
      "    Training MSE after epoch 68: 593.4902\n",
      "    Training MSE after epoch 69: 594.8395\n",
      "    Training MSE after epoch 70: 592.6936\n",
      "    Training MSE after epoch 71: 598.2976\n",
      "    Training MSE after epoch 72: 592.8741\n",
      "    Training MSE after epoch 73: 597.6747\n",
      "    Training MSE after epoch 74: 592.7457\n",
      "    Training MSE after epoch 75: 591.4406\n",
      "    Training MSE after epoch 76: 591.2707\n",
      "    Training MSE after epoch 77: 593.4918\n",
      "    Training MSE after epoch 78: 592.2309\n",
      "    Training MSE after epoch 79: 591.7290\n",
      "    Training MSE after epoch 80: 590.9144\n",
      "    Training MSE after epoch 81: 593.9580\n",
      "    Training MSE after epoch 82: 591.2026\n",
      "    Training MSE after epoch 83: 591.0194\n",
      "    Training MSE after epoch 84: 591.9994\n",
      "    Training MSE after epoch 85: 593.8526\n",
      "    Training MSE after epoch 86: 591.5642\n",
      "    Training MSE after epoch 87: 590.9814\n",
      "    Training MSE after epoch 88: 591.3552\n",
      "    Training MSE after epoch 89: 592.1726\n",
      "    Training MSE after epoch 90: 601.8515\n",
      "    Training MSE after epoch 91: 589.6439\n",
      "    Training MSE after epoch 92: 595.2399\n",
      "    Training MSE after epoch 93: 589.2480\n",
      "    Training MSE after epoch 94: 589.9932\n",
      "    Training MSE after epoch 95: 588.6726\n",
      "    Training MSE after epoch 96: 590.5039\n",
      "    Training MSE after epoch 97: 593.1059\n",
      "    Training MSE after epoch 98: 589.3036\n",
      "    Training MSE after epoch 99: 594.5447\n",
      "    Training MSE after epoch 100: 589.9656\n"
     ]
    },
    {
     "name": "stderr",
     "output_type": "stream",
     "text": [
      "2it [44:38, 1340.37s/it]"
     ]
    },
    {
     "name": "stdout",
     "output_type": "stream",
     "text": [
      "alpha=0.0001| Validation MSE : 748.9065 | R2 Score: 0.2395\n",
      "Cross-validation fold with 252 training trials and 126 validation trials\n",
      "Training model with alpha=1e-05\n",
      "    Training MSE after epoch 1: 650.3189\n",
      "    Training MSE after epoch 2: 618.9737\n",
      "    Training MSE after epoch 3: 607.5296\n",
      "    Training MSE after epoch 4: 597.3661\n",
      "    Training MSE after epoch 5: 595.5118\n",
      "    Training MSE after epoch 6: 591.8590\n",
      "    Training MSE after epoch 7: 582.8819\n",
      "    Training MSE after epoch 8: 580.0395\n",
      "    Training MSE after epoch 9: 580.9488\n",
      "    Training MSE after epoch 10: 583.3421\n",
      "    Training MSE after epoch 11: 574.4964\n",
      "    Training MSE after epoch 12: 573.1606\n",
      "    Training MSE after epoch 13: 581.9182\n",
      "    Training MSE after epoch 14: 569.5336\n",
      "    Training MSE after epoch 15: 574.2349\n",
      "    Training MSE after epoch 16: 567.5599\n",
      "    Training MSE after epoch 17: 567.3766\n",
      "    Training MSE after epoch 18: 564.8442\n",
      "    Training MSE after epoch 19: 567.1135\n",
      "    Training MSE after epoch 20: 565.9270\n",
      "    Training MSE after epoch 21: 569.2668\n",
      "    Training MSE after epoch 22: 563.0974\n",
      "    Training MSE after epoch 23: 561.9017\n",
      "    Training MSE after epoch 24: 560.9483\n",
      "    Training MSE after epoch 25: 562.3916\n",
      "    Training MSE after epoch 26: 561.8993\n",
      "    Training MSE after epoch 27: 559.1340\n",
      "    Training MSE after epoch 28: 558.6562\n",
      "    Training MSE after epoch 29: 563.7910\n",
      "    Training MSE after epoch 30: 559.5518\n",
      "    Training MSE after epoch 31: 558.5203\n",
      "    Training MSE after epoch 32: 558.6364\n",
      "    Training MSE after epoch 33: 565.2680\n",
      "    Training MSE after epoch 34: 560.9151\n",
      "    Training MSE after epoch 35: 558.2337\n",
      "    Training MSE after epoch 36: 557.6818\n",
      "    Training MSE after epoch 37: 555.0083\n",
      "    Training MSE after epoch 38: 556.8840\n",
      "    Training MSE after epoch 39: 555.4957\n",
      "    Training MSE after epoch 40: 554.3476\n",
      "    Training MSE after epoch 41: 556.0562\n",
      "    Training MSE after epoch 42: 553.9087\n",
      "    Training MSE after epoch 43: 555.5870\n",
      "    Training MSE after epoch 44: 558.7405\n",
      "    Training MSE after epoch 45: 554.4662\n",
      "    Training MSE after epoch 46: 555.2358\n",
      "    Training MSE after epoch 47: 552.6228\n",
      "    Training MSE after epoch 48: 561.2087\n",
      "    Training MSE after epoch 49: 552.7801\n",
      "    Training MSE after epoch 50: 554.7328\n",
      "    Training MSE after epoch 51: 551.7435\n",
      "    Training MSE after epoch 52: 553.5072\n",
      "    Training MSE after epoch 53: 556.5892\n",
      "    Training MSE after epoch 54: 552.1948\n",
      "    Training MSE after epoch 55: 551.9566\n",
      "    Training MSE after epoch 56: 551.3730\n",
      "    Training MSE after epoch 57: 551.2316\n",
      "    Training MSE after epoch 58: 551.5523\n",
      "    Training MSE after epoch 59: 557.9910\n",
      "    Training MSE after epoch 60: 554.1708\n",
      "    Training MSE after epoch 61: 554.3775\n",
      "    Training MSE after epoch 62: 550.1861\n",
      "    Training MSE after epoch 63: 550.9908\n",
      "    Training MSE after epoch 64: 551.9029\n",
      "    Training MSE after epoch 65: 553.9475\n",
      "    Training MSE after epoch 66: 552.2482\n",
      "    Training MSE after epoch 67: 549.6578\n",
      "    Training MSE after epoch 68: 552.6989\n",
      "    Training MSE after epoch 69: 552.2839\n",
      "    Training MSE after epoch 70: 561.1330\n",
      "    Training MSE after epoch 71: 549.8513\n",
      "    Training MSE after epoch 72: 549.9181\n",
      "    Training MSE after epoch 73: 550.8546\n",
      "    Training MSE after epoch 74: 550.2542\n",
      "    Training MSE after epoch 75: 550.9806\n",
      "    Training MSE after epoch 76: 552.5781\n",
      "    Training MSE after epoch 77: 547.9572\n",
      "    Training MSE after epoch 78: 549.4496\n",
      "    Training MSE after epoch 79: 556.2488\n",
      "    Training MSE after epoch 80: 550.5447\n",
      "    Training MSE after epoch 81: 551.5851\n",
      "    Training MSE after epoch 82: 549.7422\n",
      "    Training MSE after epoch 83: 549.9086\n",
      "    Training MSE after epoch 84: 550.1971\n",
      "    Training MSE after epoch 85: 548.3312\n",
      "    Training MSE after epoch 86: 550.6127\n",
      "    Training MSE after epoch 87: 548.0612\n",
      "    Training MSE after epoch 88: 551.3389\n",
      "    Training stopped early after 88 epochs\n",
      "alpha=1e-05| Validation MSE : 844.4423 | R2 Score: 0.0907\n",
      "Training model with alpha=0.0001\n",
      "    Training MSE after epoch 1: 651.1929\n",
      "    Training MSE after epoch 2: 623.0781\n",
      "    Training MSE after epoch 3: 624.8762\n",
      "    Training MSE after epoch 4: 598.4088\n",
      "    Training MSE after epoch 5: 595.5290\n",
      "    Training MSE after epoch 6: 591.2091\n",
      "    Training MSE after epoch 7: 591.6761\n",
      "    Training MSE after epoch 8: 584.7712\n",
      "    Training MSE after epoch 9: 588.6837\n",
      "    Training MSE after epoch 10: 577.1892\n",
      "    Training MSE after epoch 11: 580.4211\n",
      "    Training MSE after epoch 12: 576.7372\n",
      "    Training MSE after epoch 13: 577.4418\n",
      "    Training MSE after epoch 14: 573.4181\n",
      "    Training MSE after epoch 15: 572.6735\n",
      "    Training MSE after epoch 16: 569.3816\n",
      "    Training MSE after epoch 17: 566.9513\n",
      "    Training MSE after epoch 18: 572.4228\n",
      "    Training MSE after epoch 19: 569.2329\n",
      "    Training MSE after epoch 20: 569.2089\n",
      "    Training MSE after epoch 21: 565.4780\n",
      "    Training MSE after epoch 22: 563.0369\n",
      "    Training MSE after epoch 23: 564.6026\n",
      "    Training MSE after epoch 24: 571.6232\n",
      "    Training MSE after epoch 25: 562.6507\n",
      "    Training MSE after epoch 26: 570.9614\n",
      "    Training MSE after epoch 27: 562.2183\n",
      "    Training MSE after epoch 28: 560.6151\n",
      "    Training MSE after epoch 29: 561.2045\n",
      "    Training MSE after epoch 30: 560.2821\n",
      "    Training MSE after epoch 31: 559.7085\n",
      "    Training MSE after epoch 32: 560.3803\n",
      "    Training MSE after epoch 33: 563.1696\n",
      "    Training MSE after epoch 34: 560.9137\n",
      "    Training MSE after epoch 35: 561.0462\n",
      "    Training MSE after epoch 36: 561.2826\n",
      "    Training MSE after epoch 37: 559.4517\n",
      "    Training MSE after epoch 38: 558.0906\n",
      "    Training MSE after epoch 39: 556.1738\n",
      "    Training MSE after epoch 40: 558.7095\n",
      "    Training MSE after epoch 41: 557.2975\n",
      "    Training MSE after epoch 42: 557.8904\n",
      "    Training MSE after epoch 43: 563.7379\n",
      "    Training MSE after epoch 44: 555.6385\n",
      "    Training MSE after epoch 45: 555.5431\n",
      "    Training MSE after epoch 46: 565.1964\n",
      "    Training MSE after epoch 47: 558.9362\n",
      "    Training MSE after epoch 48: 554.5675\n",
      "    Training MSE after epoch 49: 559.5649\n",
      "    Training MSE after epoch 50: 555.1153\n",
      "    Training MSE after epoch 51: 555.9076\n",
      "    Training MSE after epoch 52: 561.0315\n",
      "    Training MSE after epoch 53: 555.9626\n",
      "    Training MSE after epoch 54: 554.6283\n",
      "    Training MSE after epoch 55: 556.9398\n",
      "    Training MSE after epoch 56: 553.7226\n",
      "    Training MSE after epoch 57: 557.6349\n",
      "    Training MSE after epoch 58: 553.6919\n",
      "    Training MSE after epoch 59: 554.3088\n",
      "    Training MSE after epoch 60: 553.6688\n",
      "    Training MSE after epoch 61: 559.6737\n",
      "    Training MSE after epoch 62: 553.6603\n",
      "    Training MSE after epoch 63: 553.7085\n",
      "    Training MSE after epoch 64: 556.3932\n",
      "    Training MSE after epoch 65: 552.0882\n",
      "    Training MSE after epoch 66: 551.3313\n",
      "    Training MSE after epoch 67: 556.0393\n",
      "    Training MSE after epoch 68: 553.6129\n",
      "    Training MSE after epoch 69: 551.2588\n",
      "    Training MSE after epoch 70: 555.0480\n",
      "    Training MSE after epoch 71: 551.2844\n",
      "    Training MSE after epoch 72: 554.0266\n",
      "    Training MSE after epoch 73: 551.7426\n",
      "    Training MSE after epoch 74: 550.9248\n",
      "    Training MSE after epoch 75: 554.2423\n",
      "    Training MSE after epoch 76: 552.1339\n",
      "    Training MSE after epoch 77: 553.9845\n",
      "    Training MSE after epoch 78: 552.4269\n",
      "    Training MSE after epoch 79: 551.3257\n",
      "    Training MSE after epoch 80: 553.3425\n",
      "    Training MSE after epoch 81: 552.9820\n",
      "    Training MSE after epoch 82: 554.2160\n",
      "    Training MSE after epoch 83: 550.8647\n",
      "    Training MSE after epoch 84: 555.1429\n",
      "    Training MSE after epoch 85: 553.7824\n",
      "    Training MSE after epoch 86: 560.1719\n",
      "    Training MSE after epoch 87: 549.9970\n",
      "    Training MSE after epoch 88: 549.7652\n",
      "    Training MSE after epoch 89: 554.9494\n",
      "    Training MSE after epoch 90: 550.4789\n",
      "    Training MSE after epoch 91: 550.2363\n",
      "    Training MSE after epoch 92: 550.2628\n",
      "    Training MSE after epoch 93: 551.8066\n",
      "    Training MSE after epoch 94: 549.7644\n",
      "    Training MSE after epoch 95: 550.0477\n",
      "    Training MSE after epoch 96: 549.3386\n",
      "    Training MSE after epoch 97: 555.6441\n",
      "    Training MSE after epoch 98: 548.6946\n",
      "    Training MSE after epoch 99: 552.1871\n",
      "    Training MSE after epoch 100: 550.2322\n"
     ]
    },
    {
     "name": "stderr",
     "output_type": "stream",
     "text": [
      "3it [1:05:44, 1314.99s/it]\n"
     ]
    },
    {
     "name": "stdout",
     "output_type": "stream",
     "text": [
      "alpha=0.0001| Validation MSE : 838.6598 | R2 Score: 0.0797\n",
      "\n",
      "Cross-validation results:\n",
      "Alpha: 1e-05, Average MSE: 785.8174\n",
      "Alpha: 0.0001, Average MSE: 775.8858\n",
      "\n",
      "Best alpha: 0.0001, MSE: 775.8858\n",
      "\n",
      "Training final model with best alpha...\n"
     ]
    },
    {
     "name": "stderr",
     "output_type": "stream",
     "text": [
      "100%|██████████| 6/6 [00:06<00:00,  1.02s/it]\n"
     ]
    },
    {
     "name": "stdout",
     "output_type": "stream",
     "text": [
      "Completed epoch 1/100 for final model\n"
     ]
    },
    {
     "name": "stderr",
     "output_type": "stream",
     "text": [
      "100%|██████████| 6/6 [00:06<00:00,  1.02s/it]\n"
     ]
    },
    {
     "name": "stdout",
     "output_type": "stream",
     "text": [
      "Completed epoch 2/100 for final model\n"
     ]
    },
    {
     "name": "stderr",
     "output_type": "stream",
     "text": [
      "100%|██████████| 6/6 [00:06<00:00,  1.02s/it]\n"
     ]
    },
    {
     "name": "stdout",
     "output_type": "stream",
     "text": [
      "Completed epoch 3/100 for final model\n"
     ]
    },
    {
     "name": "stderr",
     "output_type": "stream",
     "text": [
      "100%|██████████| 6/6 [00:06<00:00,  1.02s/it]\n"
     ]
    },
    {
     "name": "stdout",
     "output_type": "stream",
     "text": [
      "Completed epoch 4/100 for final model\n"
     ]
    },
    {
     "name": "stderr",
     "output_type": "stream",
     "text": [
      "100%|██████████| 6/6 [00:06<00:00,  1.02s/it]\n"
     ]
    },
    {
     "name": "stdout",
     "output_type": "stream",
     "text": [
      "Completed epoch 5/100 for final model\n"
     ]
    },
    {
     "name": "stderr",
     "output_type": "stream",
     "text": [
      "100%|██████████| 6/6 [00:06<00:00,  1.02s/it]\n"
     ]
    },
    {
     "name": "stdout",
     "output_type": "stream",
     "text": [
      "Completed epoch 6/100 for final model\n"
     ]
    },
    {
     "name": "stderr",
     "output_type": "stream",
     "text": [
      "100%|██████████| 6/6 [00:06<00:00,  1.02s/it]\n"
     ]
    },
    {
     "name": "stdout",
     "output_type": "stream",
     "text": [
      "Completed epoch 7/100 for final model\n"
     ]
    },
    {
     "name": "stderr",
     "output_type": "stream",
     "text": [
      "100%|██████████| 6/6 [00:06<00:00,  1.02s/it]\n"
     ]
    },
    {
     "name": "stdout",
     "output_type": "stream",
     "text": [
      "Completed epoch 8/100 for final model\n"
     ]
    },
    {
     "name": "stderr",
     "output_type": "stream",
     "text": [
      "100%|██████████| 6/6 [00:06<00:00,  1.02s/it]\n"
     ]
    },
    {
     "name": "stdout",
     "output_type": "stream",
     "text": [
      "Completed epoch 9/100 for final model\n"
     ]
    },
    {
     "name": "stderr",
     "output_type": "stream",
     "text": [
      "100%|██████████| 6/6 [00:06<00:00,  1.02s/it]\n"
     ]
    },
    {
     "name": "stdout",
     "output_type": "stream",
     "text": [
      "Completed epoch 10/100 for final model\n"
     ]
    },
    {
     "name": "stderr",
     "output_type": "stream",
     "text": [
      "100%|██████████| 6/6 [00:06<00:00,  1.02s/it]\n"
     ]
    },
    {
     "name": "stdout",
     "output_type": "stream",
     "text": [
      "Completed epoch 11/100 for final model\n"
     ]
    },
    {
     "name": "stderr",
     "output_type": "stream",
     "text": [
      "100%|██████████| 6/6 [00:06<00:00,  1.02s/it]\n"
     ]
    },
    {
     "name": "stdout",
     "output_type": "stream",
     "text": [
      "Completed epoch 12/100 for final model\n"
     ]
    },
    {
     "name": "stderr",
     "output_type": "stream",
     "text": [
      "100%|██████████| 6/6 [00:06<00:00,  1.01s/it]\n"
     ]
    },
    {
     "name": "stdout",
     "output_type": "stream",
     "text": [
      "Completed epoch 13/100 for final model\n"
     ]
    },
    {
     "name": "stderr",
     "output_type": "stream",
     "text": [
      "100%|██████████| 6/6 [00:06<00:00,  1.02s/it]\n"
     ]
    },
    {
     "name": "stdout",
     "output_type": "stream",
     "text": [
      "Completed epoch 14/100 for final model\n"
     ]
    },
    {
     "name": "stderr",
     "output_type": "stream",
     "text": [
      "100%|██████████| 6/6 [00:06<00:00,  1.02s/it]\n"
     ]
    },
    {
     "name": "stdout",
     "output_type": "stream",
     "text": [
      "Completed epoch 15/100 for final model\n"
     ]
    },
    {
     "name": "stderr",
     "output_type": "stream",
     "text": [
      "100%|██████████| 6/6 [00:06<00:00,  1.02s/it]\n"
     ]
    },
    {
     "name": "stdout",
     "output_type": "stream",
     "text": [
      "Completed epoch 16/100 for final model\n"
     ]
    },
    {
     "name": "stderr",
     "output_type": "stream",
     "text": [
      "100%|██████████| 6/6 [00:06<00:00,  1.02s/it]\n"
     ]
    },
    {
     "name": "stdout",
     "output_type": "stream",
     "text": [
      "Completed epoch 17/100 for final model\n"
     ]
    },
    {
     "name": "stderr",
     "output_type": "stream",
     "text": [
      "100%|██████████| 6/6 [00:06<00:00,  1.02s/it]\n"
     ]
    },
    {
     "name": "stdout",
     "output_type": "stream",
     "text": [
      "Completed epoch 18/100 for final model\n"
     ]
    },
    {
     "name": "stderr",
     "output_type": "stream",
     "text": [
      "100%|██████████| 6/6 [00:06<00:00,  1.02s/it]\n"
     ]
    },
    {
     "name": "stdout",
     "output_type": "stream",
     "text": [
      "Completed epoch 19/100 for final model\n"
     ]
    },
    {
     "name": "stderr",
     "output_type": "stream",
     "text": [
      "100%|██████████| 6/6 [00:06<00:00,  1.02s/it]\n"
     ]
    },
    {
     "name": "stdout",
     "output_type": "stream",
     "text": [
      "Completed epoch 20/100 for final model\n"
     ]
    },
    {
     "name": "stderr",
     "output_type": "stream",
     "text": [
      "100%|██████████| 6/6 [00:06<00:00,  1.02s/it]\n"
     ]
    },
    {
     "name": "stdout",
     "output_type": "stream",
     "text": [
      "Completed epoch 21/100 for final model\n"
     ]
    },
    {
     "name": "stderr",
     "output_type": "stream",
     "text": [
      "100%|██████████| 6/6 [00:06<00:00,  1.02s/it]\n"
     ]
    },
    {
     "name": "stdout",
     "output_type": "stream",
     "text": [
      "Completed epoch 22/100 for final model\n"
     ]
    },
    {
     "name": "stderr",
     "output_type": "stream",
     "text": [
      "100%|██████████| 6/6 [00:06<00:00,  1.02s/it]\n"
     ]
    },
    {
     "name": "stdout",
     "output_type": "stream",
     "text": [
      "Completed epoch 23/100 for final model\n"
     ]
    },
    {
     "name": "stderr",
     "output_type": "stream",
     "text": [
      "100%|██████████| 6/6 [00:06<00:00,  1.02s/it]\n"
     ]
    },
    {
     "name": "stdout",
     "output_type": "stream",
     "text": [
      "Completed epoch 24/100 for final model\n"
     ]
    },
    {
     "name": "stderr",
     "output_type": "stream",
     "text": [
      "100%|██████████| 6/6 [00:06<00:00,  1.02s/it]\n"
     ]
    },
    {
     "name": "stdout",
     "output_type": "stream",
     "text": [
      "Completed epoch 25/100 for final model\n"
     ]
    },
    {
     "name": "stderr",
     "output_type": "stream",
     "text": [
      "100%|██████████| 6/6 [00:06<00:00,  1.02s/it]\n"
     ]
    },
    {
     "name": "stdout",
     "output_type": "stream",
     "text": [
      "Completed epoch 26/100 for final model\n"
     ]
    },
    {
     "name": "stderr",
     "output_type": "stream",
     "text": [
      "100%|██████████| 6/6 [00:06<00:00,  1.02s/it]\n"
     ]
    },
    {
     "name": "stdout",
     "output_type": "stream",
     "text": [
      "Completed epoch 27/100 for final model\n"
     ]
    },
    {
     "name": "stderr",
     "output_type": "stream",
     "text": [
      "100%|██████████| 6/6 [00:06<00:00,  1.02s/it]\n"
     ]
    },
    {
     "name": "stdout",
     "output_type": "stream",
     "text": [
      "Completed epoch 28/100 for final model\n"
     ]
    },
    {
     "name": "stderr",
     "output_type": "stream",
     "text": [
      "100%|██████████| 6/6 [00:06<00:00,  1.01s/it]\n"
     ]
    },
    {
     "name": "stdout",
     "output_type": "stream",
     "text": [
      "Completed epoch 29/100 for final model\n"
     ]
    },
    {
     "name": "stderr",
     "output_type": "stream",
     "text": [
      "100%|██████████| 6/6 [00:06<00:00,  1.02s/it]\n"
     ]
    },
    {
     "name": "stdout",
     "output_type": "stream",
     "text": [
      "Completed epoch 30/100 for final model\n"
     ]
    },
    {
     "name": "stderr",
     "output_type": "stream",
     "text": [
      "100%|██████████| 6/6 [00:06<00:00,  1.02s/it]\n"
     ]
    },
    {
     "name": "stdout",
     "output_type": "stream",
     "text": [
      "Completed epoch 31/100 for final model\n"
     ]
    },
    {
     "name": "stderr",
     "output_type": "stream",
     "text": [
      "100%|██████████| 6/6 [00:06<00:00,  1.02s/it]\n"
     ]
    },
    {
     "name": "stdout",
     "output_type": "stream",
     "text": [
      "Completed epoch 32/100 for final model\n"
     ]
    },
    {
     "name": "stderr",
     "output_type": "stream",
     "text": [
      "100%|██████████| 6/6 [00:06<00:00,  1.02s/it]\n"
     ]
    },
    {
     "name": "stdout",
     "output_type": "stream",
     "text": [
      "Completed epoch 33/100 for final model\n"
     ]
    },
    {
     "name": "stderr",
     "output_type": "stream",
     "text": [
      "100%|██████████| 6/6 [00:06<00:00,  1.02s/it]\n"
     ]
    },
    {
     "name": "stdout",
     "output_type": "stream",
     "text": [
      "Completed epoch 34/100 for final model\n"
     ]
    },
    {
     "name": "stderr",
     "output_type": "stream",
     "text": [
      "100%|██████████| 6/6 [00:06<00:00,  1.02s/it]\n"
     ]
    },
    {
     "name": "stdout",
     "output_type": "stream",
     "text": [
      "Completed epoch 35/100 for final model\n"
     ]
    },
    {
     "name": "stderr",
     "output_type": "stream",
     "text": [
      "100%|██████████| 6/6 [00:06<00:00,  1.02s/it]\n"
     ]
    },
    {
     "name": "stdout",
     "output_type": "stream",
     "text": [
      "Completed epoch 36/100 for final model\n"
     ]
    },
    {
     "name": "stderr",
     "output_type": "stream",
     "text": [
      "100%|██████████| 6/6 [00:06<00:00,  1.02s/it]\n"
     ]
    },
    {
     "name": "stdout",
     "output_type": "stream",
     "text": [
      "Completed epoch 37/100 for final model\n"
     ]
    },
    {
     "name": "stderr",
     "output_type": "stream",
     "text": [
      "100%|██████████| 6/6 [00:06<00:00,  1.02s/it]\n"
     ]
    },
    {
     "name": "stdout",
     "output_type": "stream",
     "text": [
      "Completed epoch 38/100 for final model\n"
     ]
    },
    {
     "name": "stderr",
     "output_type": "stream",
     "text": [
      "100%|██████████| 6/6 [00:06<00:00,  1.01s/it]\n"
     ]
    },
    {
     "name": "stdout",
     "output_type": "stream",
     "text": [
      "Completed epoch 39/100 for final model\n"
     ]
    },
    {
     "name": "stderr",
     "output_type": "stream",
     "text": [
      "100%|██████████| 6/6 [00:06<00:00,  1.02s/it]\n"
     ]
    },
    {
     "name": "stdout",
     "output_type": "stream",
     "text": [
      "Completed epoch 40/100 for final model\n"
     ]
    },
    {
     "name": "stderr",
     "output_type": "stream",
     "text": [
      "100%|██████████| 6/6 [00:06<00:00,  1.02s/it]\n"
     ]
    },
    {
     "name": "stdout",
     "output_type": "stream",
     "text": [
      "Completed epoch 41/100 for final model\n"
     ]
    },
    {
     "name": "stderr",
     "output_type": "stream",
     "text": [
      "100%|██████████| 6/6 [00:06<00:00,  1.02s/it]\n"
     ]
    },
    {
     "name": "stdout",
     "output_type": "stream",
     "text": [
      "Completed epoch 42/100 for final model\n"
     ]
    },
    {
     "name": "stderr",
     "output_type": "stream",
     "text": [
      "100%|██████████| 6/6 [00:06<00:00,  1.02s/it]\n"
     ]
    },
    {
     "name": "stdout",
     "output_type": "stream",
     "text": [
      "Completed epoch 43/100 for final model\n"
     ]
    },
    {
     "name": "stderr",
     "output_type": "stream",
     "text": [
      "100%|██████████| 6/6 [00:06<00:00,  1.02s/it]\n"
     ]
    },
    {
     "name": "stdout",
     "output_type": "stream",
     "text": [
      "Completed epoch 44/100 for final model\n"
     ]
    },
    {
     "name": "stderr",
     "output_type": "stream",
     "text": [
      "100%|██████████| 6/6 [00:06<00:00,  1.02s/it]\n"
     ]
    },
    {
     "name": "stdout",
     "output_type": "stream",
     "text": [
      "Completed epoch 45/100 for final model\n"
     ]
    },
    {
     "name": "stderr",
     "output_type": "stream",
     "text": [
      "100%|██████████| 6/6 [00:06<00:00,  1.02s/it]\n"
     ]
    },
    {
     "name": "stdout",
     "output_type": "stream",
     "text": [
      "Completed epoch 46/100 for final model\n"
     ]
    },
    {
     "name": "stderr",
     "output_type": "stream",
     "text": [
      "100%|██████████| 6/6 [00:06<00:00,  1.02s/it]\n"
     ]
    },
    {
     "name": "stdout",
     "output_type": "stream",
     "text": [
      "Completed epoch 47/100 for final model\n"
     ]
    },
    {
     "name": "stderr",
     "output_type": "stream",
     "text": [
      "100%|██████████| 6/6 [00:06<00:00,  1.02s/it]\n"
     ]
    },
    {
     "name": "stdout",
     "output_type": "stream",
     "text": [
      "Completed epoch 48/100 for final model\n"
     ]
    },
    {
     "name": "stderr",
     "output_type": "stream",
     "text": [
      "100%|██████████| 6/6 [00:06<00:00,  1.02s/it]\n"
     ]
    },
    {
     "name": "stdout",
     "output_type": "stream",
     "text": [
      "Completed epoch 49/100 for final model\n"
     ]
    },
    {
     "name": "stderr",
     "output_type": "stream",
     "text": [
      "100%|██████████| 6/6 [00:06<00:00,  1.02s/it]\n"
     ]
    },
    {
     "name": "stdout",
     "output_type": "stream",
     "text": [
      "Completed epoch 50/100 for final model\n"
     ]
    },
    {
     "name": "stderr",
     "output_type": "stream",
     "text": [
      "100%|██████████| 6/6 [00:06<00:00,  1.02s/it]\n"
     ]
    },
    {
     "name": "stdout",
     "output_type": "stream",
     "text": [
      "Completed epoch 51/100 for final model\n"
     ]
    },
    {
     "name": "stderr",
     "output_type": "stream",
     "text": [
      "100%|██████████| 6/6 [00:06<00:00,  1.02s/it]\n"
     ]
    },
    {
     "name": "stdout",
     "output_type": "stream",
     "text": [
      "Completed epoch 52/100 for final model\n"
     ]
    },
    {
     "name": "stderr",
     "output_type": "stream",
     "text": [
      "100%|██████████| 6/6 [00:06<00:00,  1.02s/it]\n"
     ]
    },
    {
     "name": "stdout",
     "output_type": "stream",
     "text": [
      "Completed epoch 53/100 for final model\n"
     ]
    },
    {
     "name": "stderr",
     "output_type": "stream",
     "text": [
      "100%|██████████| 6/6 [00:06<00:00,  1.02s/it]\n"
     ]
    },
    {
     "name": "stdout",
     "output_type": "stream",
     "text": [
      "Completed epoch 54/100 for final model\n"
     ]
    },
    {
     "name": "stderr",
     "output_type": "stream",
     "text": [
      "100%|██████████| 6/6 [00:06<00:00,  1.02s/it]\n"
     ]
    },
    {
     "name": "stdout",
     "output_type": "stream",
     "text": [
      "Completed epoch 55/100 for final model\n"
     ]
    },
    {
     "name": "stderr",
     "output_type": "stream",
     "text": [
      "100%|██████████| 6/6 [00:06<00:00,  1.02s/it]\n"
     ]
    },
    {
     "name": "stdout",
     "output_type": "stream",
     "text": [
      "Completed epoch 56/100 for final model\n"
     ]
    },
    {
     "name": "stderr",
     "output_type": "stream",
     "text": [
      "100%|██████████| 6/6 [00:06<00:00,  1.02s/it]\n"
     ]
    },
    {
     "name": "stdout",
     "output_type": "stream",
     "text": [
      "Completed epoch 57/100 for final model\n"
     ]
    },
    {
     "name": "stderr",
     "output_type": "stream",
     "text": [
      "100%|██████████| 6/6 [00:06<00:00,  1.02s/it]\n"
     ]
    },
    {
     "name": "stdout",
     "output_type": "stream",
     "text": [
      "Completed epoch 58/100 for final model\n"
     ]
    },
    {
     "name": "stderr",
     "output_type": "stream",
     "text": [
      "100%|██████████| 6/6 [00:06<00:00,  1.02s/it]\n"
     ]
    },
    {
     "name": "stdout",
     "output_type": "stream",
     "text": [
      "Completed epoch 59/100 for final model\n"
     ]
    },
    {
     "name": "stderr",
     "output_type": "stream",
     "text": [
      "100%|██████████| 6/6 [00:06<00:00,  1.02s/it]\n"
     ]
    },
    {
     "name": "stdout",
     "output_type": "stream",
     "text": [
      "Completed epoch 60/100 for final model\n"
     ]
    },
    {
     "name": "stderr",
     "output_type": "stream",
     "text": [
      "100%|██████████| 6/6 [00:06<00:00,  1.02s/it]\n"
     ]
    },
    {
     "name": "stdout",
     "output_type": "stream",
     "text": [
      "Completed epoch 61/100 for final model\n"
     ]
    },
    {
     "name": "stderr",
     "output_type": "stream",
     "text": [
      "100%|██████████| 6/6 [00:06<00:00,  1.02s/it]\n"
     ]
    },
    {
     "name": "stdout",
     "output_type": "stream",
     "text": [
      "Completed epoch 62/100 for final model\n"
     ]
    },
    {
     "name": "stderr",
     "output_type": "stream",
     "text": [
      "100%|██████████| 6/6 [00:06<00:00,  1.02s/it]\n"
     ]
    },
    {
     "name": "stdout",
     "output_type": "stream",
     "text": [
      "Completed epoch 63/100 for final model\n"
     ]
    },
    {
     "name": "stderr",
     "output_type": "stream",
     "text": [
      "100%|██████████| 6/6 [00:06<00:00,  1.02s/it]\n"
     ]
    },
    {
     "name": "stdout",
     "output_type": "stream",
     "text": [
      "Completed epoch 64/100 for final model\n"
     ]
    },
    {
     "name": "stderr",
     "output_type": "stream",
     "text": [
      "100%|██████████| 6/6 [00:06<00:00,  1.02s/it]\n"
     ]
    },
    {
     "name": "stdout",
     "output_type": "stream",
     "text": [
      "Completed epoch 65/100 for final model\n"
     ]
    },
    {
     "name": "stderr",
     "output_type": "stream",
     "text": [
      "100%|██████████| 6/6 [00:06<00:00,  1.02s/it]\n"
     ]
    },
    {
     "name": "stdout",
     "output_type": "stream",
     "text": [
      "Completed epoch 66/100 for final model\n"
     ]
    },
    {
     "name": "stderr",
     "output_type": "stream",
     "text": [
      "100%|██████████| 6/6 [00:06<00:00,  1.02s/it]\n"
     ]
    },
    {
     "name": "stdout",
     "output_type": "stream",
     "text": [
      "Completed epoch 67/100 for final model\n"
     ]
    },
    {
     "name": "stderr",
     "output_type": "stream",
     "text": [
      "100%|██████████| 6/6 [00:06<00:00,  1.02s/it]\n"
     ]
    },
    {
     "name": "stdout",
     "output_type": "stream",
     "text": [
      "Completed epoch 68/100 for final model\n"
     ]
    },
    {
     "name": "stderr",
     "output_type": "stream",
     "text": [
      "100%|██████████| 6/6 [00:06<00:00,  1.02s/it]\n"
     ]
    },
    {
     "name": "stdout",
     "output_type": "stream",
     "text": [
      "Completed epoch 69/100 for final model\n"
     ]
    },
    {
     "name": "stderr",
     "output_type": "stream",
     "text": [
      "100%|██████████| 6/6 [00:06<00:00,  1.02s/it]\n"
     ]
    },
    {
     "name": "stdout",
     "output_type": "stream",
     "text": [
      "Completed epoch 70/100 for final model\n"
     ]
    },
    {
     "name": "stderr",
     "output_type": "stream",
     "text": [
      "100%|██████████| 6/6 [00:06<00:00,  1.02s/it]\n"
     ]
    },
    {
     "name": "stdout",
     "output_type": "stream",
     "text": [
      "Completed epoch 71/100 for final model\n"
     ]
    },
    {
     "name": "stderr",
     "output_type": "stream",
     "text": [
      "100%|██████████| 6/6 [00:06<00:00,  1.02s/it]\n"
     ]
    },
    {
     "name": "stdout",
     "output_type": "stream",
     "text": [
      "Completed epoch 72/100 for final model\n"
     ]
    },
    {
     "name": "stderr",
     "output_type": "stream",
     "text": [
      "100%|██████████| 6/6 [00:06<00:00,  1.02s/it]\n"
     ]
    },
    {
     "name": "stdout",
     "output_type": "stream",
     "text": [
      "Completed epoch 73/100 for final model\n"
     ]
    },
    {
     "name": "stderr",
     "output_type": "stream",
     "text": [
      "100%|██████████| 6/6 [00:06<00:00,  1.02s/it]\n"
     ]
    },
    {
     "name": "stdout",
     "output_type": "stream",
     "text": [
      "Completed epoch 74/100 for final model\n"
     ]
    },
    {
     "name": "stderr",
     "output_type": "stream",
     "text": [
      "100%|██████████| 6/6 [00:06<00:00,  1.02s/it]\n"
     ]
    },
    {
     "name": "stdout",
     "output_type": "stream",
     "text": [
      "Completed epoch 75/100 for final model\n"
     ]
    },
    {
     "name": "stderr",
     "output_type": "stream",
     "text": [
      "100%|██████████| 6/6 [00:06<00:00,  1.02s/it]\n"
     ]
    },
    {
     "name": "stdout",
     "output_type": "stream",
     "text": [
      "Completed epoch 76/100 for final model\n"
     ]
    },
    {
     "name": "stderr",
     "output_type": "stream",
     "text": [
      "100%|██████████| 6/6 [00:06<00:00,  1.02s/it]\n"
     ]
    },
    {
     "name": "stdout",
     "output_type": "stream",
     "text": [
      "Completed epoch 77/100 for final model\n"
     ]
    },
    {
     "name": "stderr",
     "output_type": "stream",
     "text": [
      "100%|██████████| 6/6 [00:06<00:00,  1.02s/it]\n"
     ]
    },
    {
     "name": "stdout",
     "output_type": "stream",
     "text": [
      "Completed epoch 78/100 for final model\n"
     ]
    },
    {
     "name": "stderr",
     "output_type": "stream",
     "text": [
      "100%|██████████| 6/6 [00:06<00:00,  1.02s/it]\n"
     ]
    },
    {
     "name": "stdout",
     "output_type": "stream",
     "text": [
      "Completed epoch 79/100 for final model\n"
     ]
    },
    {
     "name": "stderr",
     "output_type": "stream",
     "text": [
      "100%|██████████| 6/6 [00:06<00:00,  1.02s/it]\n"
     ]
    },
    {
     "name": "stdout",
     "output_type": "stream",
     "text": [
      "Completed epoch 80/100 for final model\n"
     ]
    },
    {
     "name": "stderr",
     "output_type": "stream",
     "text": [
      "100%|██████████| 6/6 [00:06<00:00,  1.02s/it]\n"
     ]
    },
    {
     "name": "stdout",
     "output_type": "stream",
     "text": [
      "Completed epoch 81/100 for final model\n"
     ]
    },
    {
     "name": "stderr",
     "output_type": "stream",
     "text": [
      "100%|██████████| 6/6 [00:06<00:00,  1.02s/it]\n"
     ]
    },
    {
     "name": "stdout",
     "output_type": "stream",
     "text": [
      "Completed epoch 82/100 for final model\n"
     ]
    },
    {
     "name": "stderr",
     "output_type": "stream",
     "text": [
      "100%|██████████| 6/6 [00:06<00:00,  1.02s/it]\n"
     ]
    },
    {
     "name": "stdout",
     "output_type": "stream",
     "text": [
      "Completed epoch 83/100 for final model\n"
     ]
    },
    {
     "name": "stderr",
     "output_type": "stream",
     "text": [
      "100%|██████████| 6/6 [00:06<00:00,  1.02s/it]\n"
     ]
    },
    {
     "name": "stdout",
     "output_type": "stream",
     "text": [
      "Completed epoch 84/100 for final model\n"
     ]
    },
    {
     "name": "stderr",
     "output_type": "stream",
     "text": [
      "100%|██████████| 6/6 [00:06<00:00,  1.03s/it]\n"
     ]
    },
    {
     "name": "stdout",
     "output_type": "stream",
     "text": [
      "Completed epoch 85/100 for final model\n"
     ]
    },
    {
     "name": "stderr",
     "output_type": "stream",
     "text": [
      "100%|██████████| 6/6 [00:06<00:00,  1.02s/it]\n"
     ]
    },
    {
     "name": "stdout",
     "output_type": "stream",
     "text": [
      "Completed epoch 86/100 for final model\n"
     ]
    },
    {
     "name": "stderr",
     "output_type": "stream",
     "text": [
      "100%|██████████| 6/6 [00:06<00:00,  1.02s/it]\n"
     ]
    },
    {
     "name": "stdout",
     "output_type": "stream",
     "text": [
      "Completed epoch 87/100 for final model\n"
     ]
    },
    {
     "name": "stderr",
     "output_type": "stream",
     "text": [
      "100%|██████████| 6/6 [00:06<00:00,  1.02s/it]\n"
     ]
    },
    {
     "name": "stdout",
     "output_type": "stream",
     "text": [
      "Completed epoch 88/100 for final model\n"
     ]
    },
    {
     "name": "stderr",
     "output_type": "stream",
     "text": [
      "100%|██████████| 6/6 [00:06<00:00,  1.02s/it]\n"
     ]
    },
    {
     "name": "stdout",
     "output_type": "stream",
     "text": [
      "Completed epoch 89/100 for final model\n"
     ]
    },
    {
     "name": "stderr",
     "output_type": "stream",
     "text": [
      "100%|██████████| 6/6 [00:06<00:00,  1.02s/it]\n"
     ]
    },
    {
     "name": "stdout",
     "output_type": "stream",
     "text": [
      "Completed epoch 90/100 for final model\n"
     ]
    },
    {
     "name": "stderr",
     "output_type": "stream",
     "text": [
      "100%|██████████| 6/6 [00:06<00:00,  1.02s/it]\n"
     ]
    },
    {
     "name": "stdout",
     "output_type": "stream",
     "text": [
      "Completed epoch 91/100 for final model\n"
     ]
    },
    {
     "name": "stderr",
     "output_type": "stream",
     "text": [
      "100%|██████████| 6/6 [00:06<00:00,  1.02s/it]\n"
     ]
    },
    {
     "name": "stdout",
     "output_type": "stream",
     "text": [
      "Completed epoch 92/100 for final model\n"
     ]
    },
    {
     "name": "stderr",
     "output_type": "stream",
     "text": [
      "100%|██████████| 6/6 [00:06<00:00,  1.02s/it]\n"
     ]
    },
    {
     "name": "stdout",
     "output_type": "stream",
     "text": [
      "Completed epoch 93/100 for final model\n"
     ]
    },
    {
     "name": "stderr",
     "output_type": "stream",
     "text": [
      "100%|██████████| 6/6 [00:06<00:00,  1.02s/it]\n"
     ]
    },
    {
     "name": "stdout",
     "output_type": "stream",
     "text": [
      "Completed epoch 94/100 for final model\n"
     ]
    },
    {
     "name": "stderr",
     "output_type": "stream",
     "text": [
      "100%|██████████| 6/6 [00:06<00:00,  1.02s/it]\n"
     ]
    },
    {
     "name": "stdout",
     "output_type": "stream",
     "text": [
      "Completed epoch 95/100 for final model\n"
     ]
    },
    {
     "name": "stderr",
     "output_type": "stream",
     "text": [
      "100%|██████████| 6/6 [00:06<00:00,  1.02s/it]\n"
     ]
    },
    {
     "name": "stdout",
     "output_type": "stream",
     "text": [
      "Completed epoch 96/100 for final model\n"
     ]
    },
    {
     "name": "stderr",
     "output_type": "stream",
     "text": [
      "100%|██████████| 6/6 [00:06<00:00,  1.02s/it]\n"
     ]
    },
    {
     "name": "stdout",
     "output_type": "stream",
     "text": [
      "Completed epoch 97/100 for final model\n"
     ]
    },
    {
     "name": "stderr",
     "output_type": "stream",
     "text": [
      "100%|██████████| 6/6 [00:06<00:00,  1.02s/it]\n"
     ]
    },
    {
     "name": "stdout",
     "output_type": "stream",
     "text": [
      "Completed epoch 98/100 for final model\n"
     ]
    },
    {
     "name": "stderr",
     "output_type": "stream",
     "text": [
      "100%|██████████| 6/6 [00:06<00:00,  1.02s/it]\n"
     ]
    },
    {
     "name": "stdout",
     "output_type": "stream",
     "text": [
      "Completed epoch 99/100 for final model\n"
     ]
    },
    {
     "name": "stderr",
     "output_type": "stream",
     "text": [
      "100%|██████████| 6/6 [00:06<00:00,  1.02s/it]\n"
     ]
    },
    {
     "name": "stdout",
     "output_type": "stream",
     "text": [
      "Completed epoch 100/100 for final model\n",
      "\n",
      "Final model validation MSE: 740.4038\n"
     ]
    }
   ],
   "source": [
    "from sklearn.linear_model import SGDRegressor\n",
    "from sklearn.multioutput import MultiOutputRegressor\n",
    "from sklearn.metrics import mean_squared_error, r2_score\n",
    "from sklearn.model_selection import KFold\n",
    "import numpy as np\n",
    "from tqdm import tqdm\n",
    "\n",
    "DO_CROSS_VALIDATION = False \n",
    "RETRAIN_FINAL_MODEL = False \n",
    "\n",
    "if DO_CROSS_VALIDATION:\n",
    "    # CV Config\n",
    "    alphas = [1e-5, 1e-4]\n",
    "    n_epochs = 100\n",
    "    batch_size = 64\n",
    "\n",
    "    # Prepare data \n",
    "    n_trials = train_inputs.shape[0]\n",
    "    cv_folds = 3\n",
    "    kf = KFold(n_splits=cv_folds, shuffle=True, random_state=42)\n",
    "\n",
    "    # Init results\n",
    "    alpha_scores = {alpha: [] for alpha in alphas}\n",
    "    alpha_r2_scores = {alpha: [] for alpha in alphas}\n",
    "\n",
    "    # Cross-validation loop\n",
    "    for train_idx, val_idx in tqdm(kf.split(range(n_trials))):\n",
    "        train_trials = train_idx\n",
    "        val_trials = val_idx\n",
    "        \n",
    "        print(f\"Cross-validation fold with {len(train_trials)} training trials and {len(val_trials)} validation trials\")\n",
    "        \n",
    "        # For each alpha value\n",
    "        for alpha in alphas:\n",
    "            print(f\"Training model with alpha={alpha}\")\n",
    "            model = MultiOutputRegressor(SGDRegressor(loss='squared_error', alpha=alpha, \n",
    "                                            learning_rate='invscaling', max_iter=1000, tol=1e-3))\n",
    "            \n",
    "            best_train_mse = float('inf')\n",
    "            epochs_no_improve = 0\n",
    "            for epoch in range(n_epochs):\n",
    "                np.random.shuffle(train_trials)\n",
    "                \n",
    "                for trial_batch_idx in range(0, len(train_trials), batch_size):\n",
    "                    end_idx = min(trial_batch_idx + batch_size, len(train_trials))\n",
    "                    current_trials = train_trials[trial_batch_idx:end_idx]\n",
    "                    \n",
    "                    X_batch = np.vstack([train_inputs[i].reshape(-1, train_inputs.shape[-1]) for i in current_trials])\n",
    "                    y_batch = np.vstack([train_targets[i].reshape(-1, train_targets.shape[-1]) for i in current_trials])                \n",
    "                    model.partial_fit(\n",
    "                        X_batch, y_batch\n",
    "                    )\n",
    "\n",
    "                train_pred = model.predict(train_inputs[train_trials].reshape(-1, train_inputs.shape[-1]))\n",
    "                train_mse = mean_squared_error(train_targets[train_trials].reshape(-1, train_targets.shape[-1]), train_pred)\n",
    "                print(f\"    Training MSE after epoch {epoch+1}: {train_mse:.4f}\")\n",
    "\n",
    "                if best_train_mse > train_mse:\n",
    "                    epochs_no_improve = 0\n",
    "                    best_train_mse = train_mse\n",
    "                else:\n",
    "                    epochs_no_improve += 1\n",
    "\n",
    "                if epochs_no_improve > 10:\n",
    "                    print(f\"    Training stopped early after {epoch+1} epochs\")\n",
    "                    break\n",
    "\n",
    "            # Evaluate on validation trials\n",
    "            val_pred = model.predict(train_inputs[val_trials].reshape(-1, train_inputs.shape[-1]))\n",
    "            val_mse = mean_squared_error(train_targets[val_trials].reshape(-1, train_targets.shape[-1]), val_pred)\n",
    "            val_r2 = r2_score(val_pred, train_targets[val_trials].reshape(-1, train_targets.shape[-1]))\n",
    "            print(f\"alpha={alpha}| Validation MSE : {val_mse:.4f} | R2 Score: {val_r2:.4f}\")\n",
    "            alpha_scores[alpha].append(val_mse)\n",
    "            alpha_r2_scores[alpha].append(val_r2)\n",
    "\n",
    "    # Calculate average score across folds for each alpha\n",
    "    avg_scores = {alpha: np.mean(scores) for alpha, scores in alpha_scores.items()}\n",
    "    best_alpha = min(avg_scores.items(), key=lambda x: x[1])[0]\n",
    "\n",
    "    print(\"\\nCross-validation results:\")\n",
    "    for alpha, score in sorted(avg_scores.items()):\n",
    "        print(f\"Alpha: {alpha}, Average MSE: {score:.4f}\")\n",
    "    print(f\"\\nBest alpha: {best_alpha}, MSE: {avg_scores[best_alpha]:.4f}\")\n",
    "else:\n",
    "    best_alpha = 1e-5\n",
    "\n",
    "\n",
    "if RETRAIN_FINAL_MODEL:\n",
    "    print(\"\\nTraining final model with best alpha...\")\n",
    "    final_model = MultiOutputRegressor(SGDRegressor(loss='squared_error', alpha=best_alpha,\n",
    "                                                    learning_rate='invscaling', max_iter=1000, tol=1e-3))\n",
    "\n",
    "    # Train on all trials in batches\n",
    "    for epoch in range(n_epochs):\n",
    "        all_trials = np.random.permutation(n_trials)\n",
    "\n",
    "        for trial_batch_idx in tqdm(range(0, n_trials, batch_size)):\n",
    "            end_idx = min(trial_batch_idx + batch_size, n_trials)\n",
    "            current_trials = all_trials[trial_batch_idx:end_idx]\n",
    "            \n",
    "            # Collect data from these trials\n",
    "            X_batch = np.vstack([train_inputs[i].reshape(-1, train_inputs.shape[-1]) for i in current_trials])\n",
    "            y_batch = np.vstack([train_targets[i].reshape(-1, train_targets.shape[-1]) for i in current_trials])\n",
    "            final_model.partial_fit(\n",
    "                X_batch, y_batch,\n",
    "                classes=None  # For regression\n",
    "            )\n",
    "\n",
    "    # Final evaluation on validation set\n",
    "    y_pred = final_model.predict(val_inputs.reshape(-1, val_inputs.shape[-1]))\n",
    "\n",
    "    final_val_mse = mean_squared_error(val_targets.reshape(-1, val_targets.shape[-1]), y_pred)\n",
    "    final_val_r2 = r2_score(val_targets.reshape(-1, val_targets.shape[-1]), y_pred)\n",
    "    print(f\"\\nFinal model validation MSE: {final_val_mse:.4f} | R2 Score: {final_val_r2:.4f}\")\n",
    "else:\n",
    "    final_model = joblib.load(\"final_sgd_model.joblib\")"
   ]
  },
  {
   "cell_type": "code",
   "execution_count": null,
   "id": "80971ec4",
   "metadata": {},
   "outputs": [
    {
     "name": "stdout",
     "output_type": "stream",
     "text": [
      "\n",
      "Final model validation MSE: 740.4038 | R2 Score: 0.5513\n",
      "Final model saved to final_sgd_model.joblib\n"
     ]
    }
   ],
   "source": [
    "\n",
    "y_pred = final_model.predict(val_inputs.reshape(-1, val_inputs.shape[-1]))\n",
    "\n",
    "final_val_mse = mean_squared_error(val_targets.reshape(-1, val_targets.shape[-1]), y_pred)\n",
    "final_val_r2 = r2_score(val_targets.reshape(-1, val_targets.shape[-1]), y_pred)\n",
    "print(f\"\\nFinal model validation MSE: {final_val_mse:.4f} | R2 Score: {final_val_r2:.4f}\")\n",
    "\n",
    "# Save the final model to a file\n",
    "joblib.dump(final_model, \"final_sgd_model.joblib\")\n",
    "print(\"Final model saved to final_sgd_model.joblib\")\n",
    "final_model = joblib.load(\"final_sgd_model.joblib\")"
   ]
  },
  {
   "cell_type": "code",
   "execution_count": null,
   "id": "081c592f",
   "metadata": {},
   "outputs": [],
   "source": [
    "final_model"
   ]
  }
 ],
 "metadata": {
  "kernelspec": {
   "display_name": "foundational_ssm",
   "language": "python",
   "name": "python3"
  },
  "language_info": {
   "codemirror_mode": {
    "name": "ipython",
    "version": 3
   },
   "file_extension": ".py",
   "mimetype": "text/x-python",
   "name": "python",
   "nbconvert_exporter": "python",
   "pygments_lexer": "ipython3",
   "version": "3.13.5"
  }
 },
 "nbformat": 4,
 "nbformat_minor": 5
}
