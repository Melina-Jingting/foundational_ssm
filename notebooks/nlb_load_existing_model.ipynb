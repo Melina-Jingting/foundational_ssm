{
 "cells": [
  {
   "cell_type": "code",
   "execution_count": null,
   "id": "f5f31f6b",
   "metadata": {},
   "outputs": [],
   "source": [
    "import wandb \n",
    "from foundational_ssm.models import S4DNeuroModel\n",
    "import torch \n",
    "\n",
    "api = wandb.Api()\n",
    "artifact = api.artifact(\"melinajingting-ucl/foundational_ssm_nlb/nlb_mc_maze_large_decoding_20250613_122651_best_model:v13\", type=\"model\")"
   ]
  },
  {
   "cell_type": "code",
   "execution_count": 28,
   "id": "5690e336",
   "metadata": {},
   "outputs": [],
   "source": [
    "input_dim = 122\n",
    "output_dim = 2 \n",
    "layers = 2\n",
    "model = S4DNeuroModel(input_dim = input_dim, output_dim=output_dim, num_layers=2)"
   ]
  },
  {
   "cell_type": "code",
   "execution_count": null,
   "id": "57b78e2b",
   "metadata": {},
   "outputs": [
    {
     "name": "stderr",
     "output_type": "stream",
     "text": [
      "\u001b[34m\u001b[1mwandb\u001b[0m:   1 of 1 files downloaded.  \n"
     ]
    },
    {
     "data": {
      "text/plain": [
       "<All keys matched successfully>"
      ]
     },
     "execution_count": 29,
     "metadata": {},
     "output_type": "execute_result"
    }
   ],
   "source": [
    "artifact_dir = artifact.download()\n",
    "torch_load = torch.load(\"artifacts/nlb_mc_maze_large_decoding_20250613_122651_best_model:v13/nlb_mc_maze_large_decoding_20250613_122651_best_model.pt\")\n",
    "model = model.load_state_dict(torch_load)"
   ]
  },
  {
   "cell_type": "code",
   "execution_count": 30,
   "id": "beb00e8d",
   "metadata": {},
   "outputs": [
    {
     "data": {
      "text/plain": [
       "S4DNeuroModel(\n",
       "  (input_projection): Linear(in_features=122, out_features=64, bias=True)\n",
       "  (ssm_block): Sequential(\n",
       "    (0): S4D(\n",
       "      (kernel): S4DKernel()\n",
       "      (activation): GELU(approximate='none')\n",
       "      (dropout): DropoutNd()\n",
       "      (output_linear): Sequential(\n",
       "        (0): Conv1d(64, 128, kernel_size=(1,), stride=(1,))\n",
       "        (1): GLU(dim=-2)\n",
       "      )\n",
       "    )\n",
       "    (1): S4D(\n",
       "      (kernel): S4DKernel()\n",
       "      (activation): GELU(approximate='none')\n",
       "      (dropout): DropoutNd()\n",
       "      (output_linear): Sequential(\n",
       "        (0): Conv1d(64, 128, kernel_size=(1,), stride=(1,))\n",
       "        (1): GLU(dim=-2)\n",
       "      )\n",
       "    )\n",
       "  )\n",
       "  (output_projection): Linear(in_features=64, out_features=2, bias=True)\n",
       ")"
      ]
     },
     "execution_count": 30,
     "metadata": {},
     "output_type": "execute_result"
    }
   ],
   "source": [
    "model"
   ]
  },
  {
   "cell_type": "code",
   "execution_count": null,
   "id": "19e39ff6",
   "metadata": {},
   "outputs": [
    {
     "data": {
      "text/plain": [
       "<bound method Module.register_forward_hook of GLU(dim=-2)>"
      ]
     },
     "execution_count": 33,
     "metadata": {},
     "output_type": "execute_result"
    }
   ],
   "source": [
    "activation = {}\n",
    "def get_activation(name):\n",
    "    def hook(model, input, output):\n",
    "        activation[name] = output.detach()\n",
    "    return hook\n",
    "\n",
    "model.ssm_block[0].output_linear[1].register_forward_hook(get_activation(''))"
   ]
  },
  {
   "cell_type": "code",
   "execution_count": null,
   "id": "db2451ba",
   "metadata": {},
   "outputs": [],
   "source": []
  }
 ],
 "metadata": {
  "kernelspec": {
   "display_name": "foundational_ssm",
   "language": "python",
   "name": "python3"
  },
  "language_info": {
   "codemirror_mode": {
    "name": "ipython",
    "version": 3
   },
   "file_extension": ".py",
   "mimetype": "text/x-python",
   "name": "python",
   "nbconvert_exporter": "python",
   "pygments_lexer": "ipython3",
   "version": "3.13.5"
  }
 },
 "nbformat": 4,
 "nbformat_minor": 5
}
