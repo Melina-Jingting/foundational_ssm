{
 "cells": [
  {
   "cell_type": "markdown",
   "id": "5564e9a3",
   "metadata": {},
   "source": [
    "# Load trained models and generated trajectories from Wandb\n",
    "You will need to: \n",
    "1. Enroll in Wandb project `foundational_ssm_nlb`\n",
    "2. Check runs in the project for all trained models. \n",
    "3. Download the original dataset from huggingface `https://huggingface.co/datasets/MelinaLaimon/nlb_processed/tree/main`, "
   ]
  },
  {
   "cell_type": "code",
   "execution_count": 2,
   "id": "9cd5793e",
   "metadata": {},
   "outputs": [],
   "source": [
    "import wandb \n",
    "from foundational_ssm.models import SSMFoundational\n",
    "import matplotlib.pyplot as plt\n",
    "import torch\n",
    "import os\n",
    "import h5py\n",
    "import pandas as pd\n",
    "import numpy as np\n",
    "from foundational_ssm.utils import load_model_wandb"
   ]
  },
  {
   "cell_type": "markdown",
   "id": "397b1cec",
   "metadata": {},
   "source": [
    "# Load Model"
   ]
  },
  {
   "cell_type": "code",
   "execution_count": 16,
   "id": "f5f31f6b",
   "metadata": {},
   "outputs": [
    {
     "name": "stderr",
     "output_type": "stream",
     "text": [
      "\u001b[34m\u001b[1mwandb\u001b[0m:   1 of 1 files downloaded.  \n"
     ]
    }
   ],
   "source": [
    "api = wandb.Api()\n",
    "wandb_account = \"melinajingting-ucl\"\n",
    "project = \"foundational_ssm_pretrain_decoding\"\n",
    "run_name = \"perich_miller_population_2018_l3_d64\" # Change this to the desired run name\n",
    "version = \"v3\"\n",
    "\n",
    "model_artifact_full_name = f\"{wandb_account}/{project}/{run_name}_best_model:{version}\"\n",
    "model_artifact = api.artifact(model_artifact_full_name, type=\"model\")\n",
    "model_artifact_dir = model_artifact.download()\n",
    "\n",
    "model_filename = os.path.join(model_artifact_dir, 'best_model.pt')"
   ]
  },
  {
   "cell_type": "code",
   "execution_count": 17,
   "id": "c2606a97",
   "metadata": {},
   "outputs": [],
   "source": [
    "import json\n",
    "from foundational_ssm.models import SSMFoundational\n",
    "import equinox as eqx\n",
    "import jax.random as jr\n",
    "\n",
    "with open(model_filename, \"rb\") as f:\n",
    "    hyperparams = json.loads(f.readline().decode())\n",
    "    model = SSMFoundational(**hyperparams, key=jr.PRNGKey(0))\n",
    "    model = eqx.tree_deserialise_leaves(f, model)"
   ]
  }
 ],
 "metadata": {
  "kernelspec": {
   "display_name": "foundational_ssm",
   "language": "python",
   "name": "python3"
  },
  "language_info": {
   "codemirror_mode": {
    "name": "ipython",
    "version": 3
   },
   "file_extension": ".py",
   "mimetype": "text/x-python",
   "name": "python",
   "nbconvert_exporter": "python",
   "pygments_lexer": "ipython3",
   "version": "3.13.5"
  }
 },
 "nbformat": 4,
 "nbformat_minor": 5
}
